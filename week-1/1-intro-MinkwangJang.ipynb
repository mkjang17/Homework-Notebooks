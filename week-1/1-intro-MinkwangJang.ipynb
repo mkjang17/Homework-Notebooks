{
 "cells": [
  {
   "cell_type": "markdown",
   "metadata": {},
   "source": [
    "# Week 1 - Retreiving and Preparing Text for Machines\n",
    "\n",
    "This week, we begin by \"begging, borrowing and stealing\" text from several\n",
    "contexts of human communication (e.g., PDFs, HTML, Word) and preparing it for\n",
    "machines to \"read\" and analyze. This notebook outlines scraping text from the\n",
    "web, PDF and Word documents. Then we detail \"spidering\" or walking\n",
    "through hyperlinks to build samples of online content, and using APIs,\n",
    "Application Programming Interfaces, provided by webservices to access their\n",
    "content. Along the way, we will use regular expressions, outlined in the\n",
    "reading, to remove unwanted formatting and ornamentation. Finally, we discuss\n",
    "various text encodings, filtering and data structures in which text can be\n",
    "placed for analysis.\n",
    "\n",
    "For this notebook we will be using the following packages:"
   ]
  },
  {
   "cell_type": "markdown",
   "metadata": {},
   "source": [
    "We made a python package just for this course: lucem_illud. If you haven't installed this package, you should run the following code first. You don't need to install the package later; all you need to do is just to import the package with: import lucem_illud. "
   ]
  },
  {
   "cell_type": "code",
   "execution_count": 3,
   "metadata": {},
   "outputs": [
    {
     "name": "stdout",
     "output_type": "stream",
     "text": [
      "Collecting git+git://github.com/UChicago-Computational-Content-Analysis/lucem_illud.git\n",
      "  Cloning git://github.com/UChicago-Computational-Content-Analysis/lucem_illud.git to /private/var/folders/wd/0h_kymy50x713yr6grtk95qm0000gn/T/pip-req-build-ug9sdzvw\n",
      "Requirement already satisfied: numpy in /Applications/anaconda3/lib/python3.8/site-packages (from lucem-illud==8.0.1) (1.19.2)\n",
      "Requirement already satisfied: requests in /Applications/anaconda3/lib/python3.8/site-packages (from lucem-illud==8.0.1) (2.24.0)\n",
      "Requirement already satisfied: pandas in /Applications/anaconda3/lib/python3.8/site-packages (from lucem-illud==8.0.1) (1.1.3)\n",
      "Requirement already satisfied: python-docx in /Applications/anaconda3/lib/python3.8/site-packages (from lucem-illud==8.0.1) (0.8.10)\n",
      "Requirement already satisfied: pillow in /Applications/anaconda3/lib/python3.8/site-packages (from lucem-illud==8.0.1) (8.0.1)\n",
      "Requirement already satisfied: pdfminer2 in /Applications/anaconda3/lib/python3.8/site-packages (from lucem-illud==8.0.1) (20151206)\n",
      "Requirement already satisfied: GitPython in /Applications/anaconda3/lib/python3.8/site-packages (from lucem-illud==8.0.1) (3.1.12)\n",
      "Requirement already satisfied: wordcloud in /Applications/anaconda3/lib/python3.8/site-packages (from lucem-illud==8.0.1) (1.8.1)\n",
      "Requirement already satisfied: scipy in /Applications/anaconda3/lib/python3.8/site-packages (from lucem-illud==8.0.1) (1.5.2)\n",
      "Requirement already satisfied: seaborn in /Applications/anaconda3/lib/python3.8/site-packages (from lucem-illud==8.0.1) (0.11.0)\n",
      "Requirement already satisfied: scikit-learn in /Applications/anaconda3/lib/python3.8/site-packages (from lucem-illud==8.0.1) (0.23.2)\n",
      "Requirement already satisfied: nltk in /Applications/anaconda3/lib/python3.8/site-packages (from lucem-illud==8.0.1) (3.5)\n",
      "Requirement already satisfied: gensim in /Applications/anaconda3/lib/python3.8/site-packages (from lucem-illud==8.0.1) (3.8.3)\n",
      "Requirement already satisfied: matplotlib in /Applications/anaconda3/lib/python3.8/site-packages (from lucem-illud==8.0.1) (3.3.2)\n",
      "Requirement already satisfied: pyanno3 in /Applications/anaconda3/lib/python3.8/site-packages (from lucem-illud==8.0.1) (2.0.2)\n",
      "Requirement already satisfied: beautifulsoup4 in /Applications/anaconda3/lib/python3.8/site-packages (from lucem-illud==8.0.1) (4.9.3)\n",
      "Requirement already satisfied: graphviz in /Applications/anaconda3/lib/python3.8/site-packages (from lucem-illud==8.0.1) (0.16)\n",
      "Requirement already satisfied: boto3 in /Applications/anaconda3/lib/python3.8/site-packages (from lucem-illud==8.0.1) (1.16.53)\n",
      "Requirement already satisfied: networkx in /Applications/anaconda3/lib/python3.8/site-packages (from lucem-illud==8.0.1) (2.5)\n",
      "Requirement already satisfied: pydub in /Applications/anaconda3/lib/python3.8/site-packages (from lucem-illud==8.0.1) (0.24.1)\n",
      "Requirement already satisfied: speechrecognition in /Applications/anaconda3/lib/python3.8/site-packages (from lucem-illud==8.0.1) (3.8.1)\n",
      "Requirement already satisfied: pysoundfile in /Applications/anaconda3/lib/python3.8/site-packages (from lucem-illud==8.0.1) (0.9.0.post1)\n",
      "Requirement already satisfied: scikit-image in /Applications/anaconda3/lib/python3.8/site-packages (from lucem-illud==8.0.1) (0.17.2)\n",
      "Requirement already satisfied: IPython in /Applications/anaconda3/lib/python3.8/site-packages (from lucem-illud==8.0.1) (7.19.0)\n",
      "Requirement already satisfied: spacy in /Applications/anaconda3/lib/python3.8/site-packages (from lucem-illud==8.0.1) (2.3.5)\n",
      "Requirement already satisfied: idna<3,>=2.5 in /Applications/anaconda3/lib/python3.8/site-packages (from requests->lucem-illud==8.0.1) (2.10)\n",
      "Requirement already satisfied: chardet<4,>=3.0.2 in /Applications/anaconda3/lib/python3.8/site-packages (from requests->lucem-illud==8.0.1) (3.0.4)\n",
      "Requirement already satisfied: certifi>=2017.4.17 in /Applications/anaconda3/lib/python3.8/site-packages (from requests->lucem-illud==8.0.1) (2020.6.20)\n",
      "Requirement already satisfied: urllib3!=1.25.0,!=1.25.1,<1.26,>=1.21.1 in /Applications/anaconda3/lib/python3.8/site-packages (from requests->lucem-illud==8.0.1) (1.25.11)\n",
      "Requirement already satisfied: python-dateutil>=2.7.3 in /Applications/anaconda3/lib/python3.8/site-packages (from pandas->lucem-illud==8.0.1) (2.8.1)\n",
      "Requirement already satisfied: pytz>=2017.2 in /Applications/anaconda3/lib/python3.8/site-packages (from pandas->lucem-illud==8.0.1) (2020.1)\n",
      "Requirement already satisfied: lxml>=2.3.2 in /Applications/anaconda3/lib/python3.8/site-packages (from python-docx->lucem-illud==8.0.1) (4.6.1)\n",
      "Requirement already satisfied: six in /Applications/anaconda3/lib/python3.8/site-packages (from pdfminer2->lucem-illud==8.0.1) (1.15.0)\n",
      "Requirement already satisfied: gitdb<5,>=4.0.1 in /Applications/anaconda3/lib/python3.8/site-packages (from GitPython->lucem-illud==8.0.1) (4.0.5)\n",
      "Requirement already satisfied: threadpoolctl>=2.0.0 in /Applications/anaconda3/lib/python3.8/site-packages (from scikit-learn->lucem-illud==8.0.1) (2.1.0)\n",
      "Requirement already satisfied: joblib>=0.11 in /Applications/anaconda3/lib/python3.8/site-packages (from scikit-learn->lucem-illud==8.0.1) (0.17.0)\n",
      "Requirement already satisfied: click in /Applications/anaconda3/lib/python3.8/site-packages (from nltk->lucem-illud==8.0.1) (7.1.2)\n",
      "Requirement already satisfied: regex in /Applications/anaconda3/lib/python3.8/site-packages (from nltk->lucem-illud==8.0.1) (2020.10.15)\n",
      "Requirement already satisfied: tqdm in /Applications/anaconda3/lib/python3.8/site-packages (from nltk->lucem-illud==8.0.1) (4.50.2)\n",
      "Requirement already satisfied: smart-open>=1.8.1 in /Applications/anaconda3/lib/python3.8/site-packages (from gensim->lucem-illud==8.0.1) (4.1.0)\n",
      "Requirement already satisfied: cycler>=0.10 in /Applications/anaconda3/lib/python3.8/site-packages (from matplotlib->lucem-illud==8.0.1) (0.10.0)\n",
      "Requirement already satisfied: pyparsing!=2.0.4,!=2.1.2,!=2.1.6,>=2.0.3 in /Applications/anaconda3/lib/python3.8/site-packages (from matplotlib->lucem-illud==8.0.1) (2.4.7)\n",
      "Requirement already satisfied: kiwisolver>=1.0.1 in /Applications/anaconda3/lib/python3.8/site-packages (from matplotlib->lucem-illud==8.0.1) (1.3.0)\n",
      "Requirement already satisfied: traits in /Applications/anaconda3/lib/python3.8/site-packages (from pyanno3->lucem-illud==8.0.1) (6.1.1)\n",
      "Requirement already satisfied: soupsieve>1.2; python_version >= \"3.0\" in /Applications/anaconda3/lib/python3.8/site-packages (from beautifulsoup4->lucem-illud==8.0.1) (2.0.1)\n",
      "Requirement already satisfied: s3transfer<0.4.0,>=0.3.0 in /Applications/anaconda3/lib/python3.8/site-packages (from boto3->lucem-illud==8.0.1) (0.3.4)\n",
      "Requirement already satisfied: jmespath<1.0.0,>=0.7.1 in /Applications/anaconda3/lib/python3.8/site-packages (from boto3->lucem-illud==8.0.1) (0.10.0)\n",
      "Requirement already satisfied: botocore<1.20.0,>=1.19.53 in /Applications/anaconda3/lib/python3.8/site-packages (from boto3->lucem-illud==8.0.1) (1.19.53)\n",
      "Requirement already satisfied: decorator>=4.3.0 in /Applications/anaconda3/lib/python3.8/site-packages (from networkx->lucem-illud==8.0.1) (4.4.2)\n",
      "Requirement already satisfied: cffi>=0.6 in /Applications/anaconda3/lib/python3.8/site-packages (from pysoundfile->lucem-illud==8.0.1) (1.14.3)\n",
      "Requirement already satisfied: imageio>=2.3.0 in /Applications/anaconda3/lib/python3.8/site-packages (from scikit-image->lucem-illud==8.0.1) (2.9.0)\n",
      "Requirement already satisfied: tifffile>=2019.7.26 in /Applications/anaconda3/lib/python3.8/site-packages (from scikit-image->lucem-illud==8.0.1) (2020.10.1)\n",
      "Requirement already satisfied: PyWavelets>=1.1.1 in /Applications/anaconda3/lib/python3.8/site-packages (from scikit-image->lucem-illud==8.0.1) (1.1.1)\n",
      "Requirement already satisfied: backcall in /Applications/anaconda3/lib/python3.8/site-packages (from IPython->lucem-illud==8.0.1) (0.2.0)\n",
      "Requirement already satisfied: pickleshare in /Applications/anaconda3/lib/python3.8/site-packages (from IPython->lucem-illud==8.0.1) (0.7.5)\n",
      "Requirement already satisfied: setuptools>=18.5 in /Applications/anaconda3/lib/python3.8/site-packages (from IPython->lucem-illud==8.0.1) (50.3.1.post20201107)\n",
      "Requirement already satisfied: appnope; sys_platform == \"darwin\" in /Applications/anaconda3/lib/python3.8/site-packages (from IPython->lucem-illud==8.0.1) (0.1.0)\n",
      "Requirement already satisfied: prompt-toolkit!=3.0.0,!=3.0.1,<3.1.0,>=2.0.0 in /Applications/anaconda3/lib/python3.8/site-packages (from IPython->lucem-illud==8.0.1) (3.0.8)\n",
      "Requirement already satisfied: pexpect>4.3; sys_platform != \"win32\" in /Applications/anaconda3/lib/python3.8/site-packages (from IPython->lucem-illud==8.0.1) (4.8.0)\n",
      "Requirement already satisfied: pygments in /Applications/anaconda3/lib/python3.8/site-packages (from IPython->lucem-illud==8.0.1) (2.7.2)\n",
      "Requirement already satisfied: traitlets>=4.2 in /Applications/anaconda3/lib/python3.8/site-packages (from IPython->lucem-illud==8.0.1) (5.0.5)\n",
      "Requirement already satisfied: jedi>=0.10 in /Applications/anaconda3/lib/python3.8/site-packages (from IPython->lucem-illud==8.0.1) (0.17.1)\n",
      "Requirement already satisfied: wasabi<1.1.0,>=0.4.0 in /Applications/anaconda3/lib/python3.8/site-packages (from spacy->lucem-illud==8.0.1) (0.8.0)\n",
      "Requirement already satisfied: thinc<7.5.0,>=7.4.1 in /Applications/anaconda3/lib/python3.8/site-packages (from spacy->lucem-illud==8.0.1) (7.4.5)\n",
      "Requirement already satisfied: catalogue<1.1.0,>=0.0.7 in /Applications/anaconda3/lib/python3.8/site-packages (from spacy->lucem-illud==8.0.1) (1.0.0)\n",
      "Requirement already satisfied: blis<0.8.0,>=0.4.0 in /Applications/anaconda3/lib/python3.8/site-packages (from spacy->lucem-illud==8.0.1) (0.7.4)\n",
      "Requirement already satisfied: murmurhash<1.1.0,>=0.28.0 in /Applications/anaconda3/lib/python3.8/site-packages (from spacy->lucem-illud==8.0.1) (1.0.5)\n",
      "Requirement already satisfied: cymem<2.1.0,>=2.0.2 in /Applications/anaconda3/lib/python3.8/site-packages (from spacy->lucem-illud==8.0.1) (2.0.5)\n",
      "Requirement already satisfied: preshed<3.1.0,>=3.0.2 in /Applications/anaconda3/lib/python3.8/site-packages (from spacy->lucem-illud==8.0.1) (3.0.5)\n",
      "Requirement already satisfied: plac<1.2.0,>=0.9.6 in /Applications/anaconda3/lib/python3.8/site-packages (from spacy->lucem-illud==8.0.1) (1.1.3)\n",
      "Requirement already satisfied: srsly<1.1.0,>=1.0.2 in /Applications/anaconda3/lib/python3.8/site-packages (from spacy->lucem-illud==8.0.1) (1.0.5)\n",
      "Requirement already satisfied: smmap<4,>=3.0.1 in /Applications/anaconda3/lib/python3.8/site-packages (from gitdb<5,>=4.0.1->GitPython->lucem-illud==8.0.1) (3.0.4)\n",
      "Requirement already satisfied: pycparser in /Applications/anaconda3/lib/python3.8/site-packages (from cffi>=0.6->pysoundfile->lucem-illud==8.0.1) (2.20)\n",
      "Requirement already satisfied: wcwidth in /Applications/anaconda3/lib/python3.8/site-packages (from prompt-toolkit!=3.0.0,!=3.0.1,<3.1.0,>=2.0.0->IPython->lucem-illud==8.0.1) (0.2.5)\n",
      "Requirement already satisfied: ptyprocess>=0.5 in /Applications/anaconda3/lib/python3.8/site-packages (from pexpect>4.3; sys_platform != \"win32\"->IPython->lucem-illud==8.0.1) (0.6.0)\n",
      "Requirement already satisfied: ipython-genutils in /Applications/anaconda3/lib/python3.8/site-packages (from traitlets>=4.2->IPython->lucem-illud==8.0.1) (0.2.0)\n",
      "Requirement already satisfied: parso<0.8.0,>=0.7.0 in /Applications/anaconda3/lib/python3.8/site-packages (from jedi>=0.10->IPython->lucem-illud==8.0.1) (0.7.0)\n",
      "Building wheels for collected packages: lucem-illud\n",
      "  Building wheel for lucem-illud (setup.py) ... \u001b[?25ldone\n",
      "\u001b[?25h  Created wheel for lucem-illud: filename=lucem_illud-8.0.1-py3-none-any.whl size=34914 sha256=28530be7b6703786e8ed52d473211560aab3936822663a64f928fde7422d8712\n",
      "  Stored in directory: /private/var/folders/wd/0h_kymy50x713yr6grtk95qm0000gn/T/pip-ephem-wheel-cache-ycqbgn7p/wheels/26/66/59/2c69dc2c9856ccf2d3eb274e5754cbb361d91e0a577f63c61d\n",
      "Successfully built lucem-illud\n",
      "Installing collected packages: lucem-illud\n",
      "Successfully installed lucem-illud-8.0.1\n"
     ]
    }
   ],
   "source": [
    "!pip install git+git://github.com/UChicago-Computational-Content-Analysis/lucem_illud.git\n",
    "#installing lucem_illud package"
   ]
  },
  {
   "cell_type": "markdown",
   "metadata": {},
   "source": [
    "If you're not familiar with jupyter notebook, you may wonder what the exclamation mark(!) at the beginning of the command does (or even what pip means). The exclamation mark enables us to execute Terminal commands in the notebook cells. "
   ]
  },
  {
   "cell_type": "code",
   "execution_count": 4,
   "metadata": {},
   "outputs": [],
   "source": [
    "#Special module written for this class\n",
    "#This provides access to data and to helper functions from previous weeks\n",
    "import lucem_illud #pip install git+git://github.com/UChicago-Computational-Content-Analysis/lucem_illud.git\n",
    "\n",
    "#All these packages need to be installed from pip\n",
    "import requests #for http requests\n",
    "import bs4 #called `beautifulsoup4`, an html parser\n",
    "import pandas #gives us DataFrames\n",
    "import docx #reading MS doc files, install as `python-docx`\n",
    "\n",
    "#Stuff for pdfs\n",
    "#Install as `pdfminer2`\n",
    "import pdfminer.pdfinterp\n",
    "import pdfminer.converter\n",
    "import pdfminer.layout\n",
    "import pdfminer.pdfpage\n",
    "\n",
    "#These come with Python\n",
    "import re #for regexs\n",
    "import urllib.parse #For joining urls\n",
    "import io #for making http requests look like files\n",
    "import json #For Tumblr API responses\n",
    "import os.path #For checking if files exist\n",
    "import os #For making directories"
   ]
  },
  {
   "cell_type": "markdown",
   "metadata": {},
   "source": [
    "We will also be working on the following files/urls"
   ]
  },
  {
   "cell_type": "code",
   "execution_count": 179,
   "metadata": {},
   "outputs": [],
   "source": [
    "wikipedia_base_url = 'https://en.wikipedia.org'\n",
    "wikipedia_content_analysis = 'https://en.wikipedia.org/wiki/Content_analysis'\n",
    "content_analysis_save = 'wikipedia_content_analysis.html'\n",
    "example_text_file = 'sometextfile.txt'\n",
    "information_extraction_pdf = 'https://github.com/Computational-Content-Analysis-2018/Data-Files/raw/master/1-intro/Content%20Analysis%2018.pdf'\n",
    "example_docx = 'https://github.com/Computational-Content-Analysis-2018/Data-Files/raw/master/1-intro/macs6000_connecting_to_midway.docx'\n",
    "example_docx_save = 'example.docx'"
   ]
  },
  {
   "cell_type": "markdown",
   "metadata": {},
   "source": [
    "# Scraping\n",
    "\n",
    "Before we can start analyzing content we need to obtain it. Sometimes it will be\n",
    "provided to us from a pre-curated text archive, but sometimes we will need to\n",
    "download it. As a starting example we will attempt to download the wikipedia\n",
    "page on content analysis. The page is located at [https://en.wikipedia.org/wiki/\n",
    "Content_analysis](https://en.wikipedia.org/wiki/Content_analysis) so lets start\n",
    "with that.\n",
    "\n",
    "We can do this by making an HTTP GET request to that url, a GET request is\n",
    "simply a request to the server to provide the contents given by some url. The\n",
    "other request we will be using in this class is called a POST request and\n",
    "requests the server to take some content we provide. While the Python standard\n",
    "library does have the ability do make GET requests we will be using the\n",
    "[_requests_](http://docs.python-requests.org/en/master/) package as it is _'the\n",
    "only Non-GMO HTTP library for Python'_...also it provides a nicer interface."
   ]
  },
  {
   "cell_type": "code",
   "execution_count": 26,
   "metadata": {},
   "outputs": [
    {
     "data": {
      "text/plain": [
       "<Response [200]>"
      ]
     },
     "execution_count": 26,
     "metadata": {},
     "output_type": "execute_result"
    }
   ],
   "source": [
    "#wikipedia_content_analysis = 'https://en.wikipedia.org/wiki/Content_analysis'\n",
    "requests.get(wikipedia_content_analysis)"
   ]
  },
  {
   "cell_type": "markdown",
   "metadata": {},
   "source": [
    "`'Response [200]'` means the server responded with what we asked for. If you get\n",
    "another number (e.g. 404) it likely means there was some kind of error, these\n",
    "codes are called HTTP response codes and a list of them can be found\n",
    "[here](https://en.wikipedia.org/wiki/List_of_HTTP_status_codes). The response\n",
    "object contains all the data the server sent including the website's contents\n",
    "and the HTTP header. We are interested in the contents which we can access with\n",
    "the `.text` attribute."
   ]
  },
  {
   "cell_type": "code",
   "execution_count": 27,
   "metadata": {},
   "outputs": [
    {
     "name": "stdout",
     "output_type": "stream",
     "text": [
      "<!DOCTYPE html>\n",
      "<html class=\"client-nojs\" lang=\"en\" dir=\"ltr\">\n",
      "<head>\n",
      "<meta charset=\"UTF-8\"/>\n",
      "<title>Content analysis - Wikipedia</title>\n",
      "<script>document.documentElement.className=\"client-js\";RLCONF={\"wgBreakFrames\":!1,\"wgSeparatorTransformTable\":[\"\",\"\"],\"wgDigitTransformTable\":[\"\",\"\"],\"wgDefaultDateFormat\":\"dmy\",\"wgMonthNames\":[\"\",\"January\",\"February\",\"March\",\"April\",\"May\",\"June\",\"July\",\"August\",\"September\",\"October\",\"November\",\"December\"],\"wgRequestId\":\"X-tMqwpAICkAAA-3WjwAAADY\",\"wgCSPNonce\":!1,\"wgCanonicalNamespace\":\"\",\"wgCanonicalSpecialPageName\":!1,\"wgNamespaceNumber\":0,\"wgPageName\":\"Content_analysis\",\"wgTitle\":\"Content analysis\",\"wgCurRevisionId\":991020438,\"wgRevisionId\":991020438,\"wgArticleId\":473317,\"wgIsArticle\":!0,\"wgIsRedirect\":!1,\"wgAction\":\"view\",\"wgUserName\":null,\"wgUserGroups\":[\"*\"],\"wgCategories\":[\"Articles needing expert attention with no reason or talk parameter\",\"Articles needing expert attention from April 2008\",\"All articles needing expert attention\",\"Sociology ar\n"
     ]
    }
   ],
   "source": [
    "wikiContentRequest = requests.get(wikipedia_content_analysis)\n",
    "print(wikiContentRequest.text[:1000])"
   ]
  },
  {
   "cell_type": "markdown",
   "metadata": {},
   "source": [
    "This is not what we were looking for, because it is the start of the HTML that\n",
    "makes up the website. This is HTML and is meant to be read by computers. Luckily\n",
    "we have a computer to parse it for us. To do the parsing we will use [_Beautiful\n",
    "Soup_](https://www.crummy.com/software/BeautifulSoup/) which is a better parser\n",
    "than the one in the standard library."
   ]
  },
  {
   "cell_type": "markdown",
   "metadata": {},
   "source": [
    "But before we proceed to Beautiful Soup, a digression about Python syntax, especially about objects and functions.\n",
    "For those who are not familiar with the syntax of python (or, if you're familiar with R programming), you might wonder what requests.get or wikiContentRequest.text mean. To understand this, you need to first understand what objects are. You may have heard that Python is an object oriented programming language (unlike the procedure oriented programming language, an example of which is R). Object is a set of variables (or, data) and functions into which you pass your data. So, in object oriented programming languages, like python, variables and functions are bunleded into objects.\n",
    "\n",
    "For example, let's look at wikiContentRequest. We use dir() function, which returns the list of attributes and functions of objects."
   ]
  },
  {
   "cell_type": "code",
   "execution_count": 28,
   "metadata": {},
   "outputs": [
    {
     "data": {
      "text/plain": [
       "['__attrs__',\n",
       " '__bool__',\n",
       " '__class__',\n",
       " '__delattr__',\n",
       " '__dict__',\n",
       " '__dir__',\n",
       " '__doc__',\n",
       " '__enter__',\n",
       " '__eq__',\n",
       " '__exit__',\n",
       " '__format__',\n",
       " '__ge__',\n",
       " '__getattribute__',\n",
       " '__getstate__',\n",
       " '__gt__',\n",
       " '__hash__',\n",
       " '__init__',\n",
       " '__init_subclass__',\n",
       " '__iter__',\n",
       " '__le__',\n",
       " '__lt__',\n",
       " '__module__',\n",
       " '__ne__',\n",
       " '__new__',\n",
       " '__nonzero__',\n",
       " '__reduce__',\n",
       " '__reduce_ex__',\n",
       " '__repr__',\n",
       " '__setattr__',\n",
       " '__setstate__',\n",
       " '__sizeof__',\n",
       " '__str__',\n",
       " '__subclasshook__',\n",
       " '__weakref__',\n",
       " '_content',\n",
       " '_content_consumed',\n",
       " '_next',\n",
       " 'apparent_encoding',\n",
       " 'close',\n",
       " 'connection',\n",
       " 'content',\n",
       " 'cookies',\n",
       " 'elapsed',\n",
       " 'encoding',\n",
       " 'headers',\n",
       " 'history',\n",
       " 'is_permanent_redirect',\n",
       " 'is_redirect',\n",
       " 'iter_content',\n",
       " 'iter_lines',\n",
       " 'json',\n",
       " 'links',\n",
       " 'next',\n",
       " 'ok',\n",
       " 'raise_for_status',\n",
       " 'raw',\n",
       " 'reason',\n",
       " 'request',\n",
       " 'status_code',\n",
       " 'text',\n",
       " 'url']"
      ]
     },
     "execution_count": 28,
     "metadata": {},
     "output_type": "execute_result"
    }
   ],
   "source": [
    " dir(wikiContentRequest)"
   ]
  },
  {
   "cell_type": "markdown",
   "metadata": {},
   "source": [
    "There's 'text' here. We used 'wikiContentRequest.text' to access 'text.' In other words, we use .(dot notation) to access functions from objects. wikiContentRequest has a set of functions, as shown above, and we used 'wikiContentRequest.text' to access one of them. By the way, dot notations do not necessarily refer to functions--it refers to anything that the entity contains. \n",
    "\n"
   ]
  },
  {
   "cell_type": "markdown",
   "metadata": {},
   "source": [
    "Moving on to the next step: BeautifulSoup, a Python library which extracts data from HTML and XML, and transforms HTML files into Python objects."
   ]
  },
  {
   "cell_type": "code",
   "execution_count": 29,
   "metadata": {},
   "outputs": [
    {
     "name": "stdout",
     "output_type": "stream",
     "text": [
      "\n",
      "\n",
      "\n",
      "\n",
      "Content analysis - Wikipedia\n",
      "\n",
      "\n",
      "\n",
      "\n",
      "\n",
      "\n",
      "\n",
      "\n",
      "\n",
      "\n",
      "\n",
      "\n",
      "\n",
      "\n",
      "\n",
      "\n",
      "\n",
      "\n",
      "\n",
      "\n",
      "\n",
      "\n",
      "\n",
      "\n",
      "\n",
      "\n",
      "\n",
      "\n",
      "\n",
      "\n",
      "\n",
      "Content analysis\n",
      "\n",
      "From Wikipedia, the free encyclopedia\n",
      "\n",
      "\n",
      "\n",
      "Jump to navigation\n",
      "Jump to search\n",
      "This article needs attention from an expert\n"
     ]
    }
   ],
   "source": [
    "wikiContentSoup = bs4.BeautifulSoup(wikiContentRequest.text, 'html.parser')\n",
    "print(wikiContentSoup.text[:200])"
   ]
  },
  {
   "cell_type": "markdown",
   "metadata": {},
   "source": [
    "This is better but there's still random whitespace and we have more than just\n",
    "the text of the article. This is because what we requested is the whole webpage,\n",
    "not just the text for the article.\n",
    "\n",
    "We want to extract only the text we care about, and in order to do this we will\n",
    "need to inspect the html. One way to do this is simply to go to the website with\n",
    "a browser and use its inspection or view source tool. If javascript or other\n",
    "dynamic loading occurs on the page, however, it is likely that what Python\n",
    "receives is not what you will see, so we will need to inspect what Python\n",
    "receives. To do this we can save the html `requests` obtained."
   ]
  },
  {
   "cell_type": "code",
   "execution_count": 30,
   "metadata": {},
   "outputs": [],
   "source": [
    "#content_analysis_save = 'wikipedia_content_analysis.html'\n",
    "\n",
    "with open(content_analysis_save, mode='w', encoding='utf-8') as f:\n",
    "    f.write(wikiContentRequest.text)"
   ]
  },
  {
   "cell_type": "markdown",
   "metadata": {},
   "source": [
    "open() is a function which literally opens and returns the file. This function has multiple modes, and, here, we used mode as 'w', which means: open a file for writing. And then, we use 'write' function to write on the empty file (content_analysis_save) that we created using open(content_analysis_save, mode='w', encoding='utf-8').} What did we write on this file? The text we got from wikiContentRequest.text"
   ]
  },
  {
   "cell_type": "markdown",
   "metadata": {},
   "source": [
    "Now let's open the file (`wikipedia_content_analysis.html`) we just created with\n",
    "a web browser. It should look sort of like the original but without the images\n",
    "and formatting.\n",
    "\n",
    "As there is very little standardization on structuring webpages, figuring out\n",
    "how best to extract what you want is an art. Looking at this page it looks like\n",
    "all the main textual content is inside `<p>`(paragraph) tags within the `<body>`\n",
    "tag. "
   ]
  },
  {
   "cell_type": "code",
   "execution_count": 31,
   "metadata": {
    "scrolled": true
   },
   "outputs": [
    {
     "name": "stdout",
     "output_type": "stream",
     "text": [
      "Content analysis is the study of documents and communication artifacts, which might be texts of various formats, pictures, audio or video. Social scientists use content analysis to examine patterns in communication in a replicable and systematic manner.[1] One of the key advantages of using content analysis to analyse social phenomena is its non-invasive nature, in contrast to simulating social experiences or collecting survey answers.\n",
      "\n",
      "Practices and philosophies of content analysis vary between academic disciplines. They all involve systematic reading or observation of texts or artifacts which are assigned labels (sometimes called codes) to indicate the presence of interesting, meaningful pieces of content.[2][3] By systematically labeling the content of a set of texts, researchers can analyse patterns of content quantitatively using statistical methods, or use qualitative methods to analyse meanings of content within texts.\n",
      "\n",
      "Computers are increasingly used in content analysis to automate the labeling (or coding) of documents. Simple computational techniques can provide descriptive data such as word frequencies and document lengths. Machine learning classifiers can greatly increase the number of texts that can be labeled, but the scientific utility of doing so is a matter of debate. Further, numerous computer-aided text analysis (CATA) computer programs are available that analyze text for pre-determined linguistic, semantic, and psychological characteristics.[4]\n",
      "\n"
     ]
    }
   ],
   "source": [
    "contentPTags = wikiContentSoup.body.findAll('p')\n",
    "for pTag in contentPTags[:3]:\n",
    "    print(pTag.text)"
   ]
  },
  {
   "cell_type": "markdown",
   "metadata": {},
   "source": [
    "Another excursion for those who are not familiar with programming: for loop. For loop is used to iterate over a sequence. \"ContentPTags\" contains multiple paragraphs, each of which starts and ends with `<p>`. What the \"for pTag in contentPtags[:3]\" does here is: find each paragraph in contentPTags, which, here, we limited to the first three using contentPtags[:3], and then print each paragraph. So, we have three paragraphs. By the way, you can insert `<p>` in juputer notebook!"
   ]
  },
  {
   "cell_type": "markdown",
   "metadata": {},
   "source": [
    "We now have all the text from the page, split up by paragraph. If we wanted to\n",
    "get the section headers or references as well it would require a bit more work,\n",
    "but is doable.\n",
    "\n",
    "There is one more thing we might want to do before sending this text to be\n",
    "processed, remove the references indicators (`[2]`, `[3]` , etc). To do this we\n",
    "can use a short regular expression (regex)."
   ]
  },
  {
   "cell_type": "code",
   "execution_count": 32,
   "metadata": {},
   "outputs": [
    {
     "name": "stdout",
     "output_type": "stream",
     "text": [
      "                                       paragraph-text\n",
      "0   Content analysis is the study of documents and...\n",
      "1   Practices and philosophies of content analysis...\n",
      "2   Computers are increasingly used in content ana...\n",
      "3   Content analysis is best understood as a broad...\n",
      "4   The simplest and most objective form of conten...\n",
      "5   A further step in analysis is the distinction ...\n",
      "6   Quantitative content analysis highlights frequ...\n",
      "7   Siegfried Kracauer provides a critique of quan...\n",
      "8   More generally, content analysis is research u...\n",
      "9   By having contents of communication available ...\n",
      "10  Computer-assisted analysis can help with large...\n",
      "11  Robert Weber notes: \"To make valid inferences ...\n",
      "12  There are five types of texts in content analy...\n",
      "13  Over the years, content analysis has been appl...\n",
      "14  In recent times, particularly with the advent ...\n",
      "15  Quantitative content analysis has enjoyed a re...\n",
      "16  Content analysis can also be described as stud...\n",
      "17  Manifest content is readily understandable at ...\n",
      "18  Holsti groups fifteen uses of content analysis...\n",
      "19  He also places these uses into the context of ...\n",
      "20  The following table shows fifteen uses of cont...\n",
      "21  The process of the initial coding scheme or ap...\n",
      "22  With either approach above, immersing oneself ...\n",
      "23                                                 \\n\n"
     ]
    }
   ],
   "source": [
    "contentParagraphs = []\n",
    "for pTag in contentPTags:\n",
    "    #strings starting with r are raw so their \\'s are not modifier characters\n",
    "    #If we didn't start with r the string would be: '\\\\[\\\\d+\\\\]'\n",
    "    contentParagraphs.append(re.sub(r'\\[\\d+\\]', '', pTag.text))\n",
    "\n",
    "#convert to a DataFrame\n",
    "contentParagraphsDF = pandas.DataFrame({'paragraph-text' : contentParagraphs})\n",
    "print(contentParagraphsDF)"
   ]
  },
  {
   "cell_type": "markdown",
   "metadata": {},
   "source": [
    "Since we learned how to do for loop, you might get what we did here: using contentParagraphs = [], we made an empty list; and then, for each paragraph in contentPTags, we substituted every [\\d+\\] with '', i.e., removed every [\\d+\\], and then appended each paragraph (now without [\\d+\\]) to the empty list. As we can see, we have a dataframe, each row of which is each paragraph of contentPTags, without reference indicators. \n",
    "\n",
    "By the way, what does [\\d+\\] mean? If you are not familiar with regex, it is a way of specifying searches in text.\n",
    "A regex engine takes in the search pattern, in the above case `'\\[\\d+\\]'` and\n",
    "some string, the paragraph texts. Then it reads the input string one character\n",
    "at a time checking if it matches the search. Here the regex `'\\d'` matches\n",
    "number characters (while `'\\['` and `'\\]'` capture the braces on either side)."
   ]
  },
  {
   "cell_type": "markdown",
   "metadata": {},
   "source": [
    "Now we have a `DataFrame` containing all relevant text from the page ready to be processed"
   ]
  },
  {
   "cell_type": "code",
   "execution_count": 104,
   "metadata": {},
   "outputs": [],
   "source": [
    "findNumber = r'\\d'\n",
    "regexResults = re.search(findNumber, 'not a number, not a number, numbers 2134567890, not a number')\n",
    "regexResults"
   ]
  },
  {
   "cell_type": "markdown",
   "metadata": {},
   "source": [
    "In Python the regex package (`re`) usually returns `Match` objects (you can have\n",
    "multiple pattern hits in a a single `Match`), to get the string that matched our\n",
    "pattern we can use the `.group()` method, and as we want the first one we will\n",
    "ask for the 0'th group."
   ]
  },
  {
   "cell_type": "code",
   "execution_count": 40,
   "metadata": {},
   "outputs": [
    {
     "name": "stdout",
     "output_type": "stream",
     "text": [
      "2\n"
     ]
    }
   ],
   "source": [
    "print(regexResults.group(0))"
   ]
  },
  {
   "cell_type": "markdown",
   "metadata": {},
   "source": [
    "That gives us the first number, if we wanted the whole block of numbers we can\n",
    "add a wildcard `'+'` which requests 1 or more instances of the preceding\n",
    "character."
   ]
  },
  {
   "cell_type": "code",
   "execution_count": 43,
   "metadata": {},
   "outputs": [
    {
     "name": "stdout",
     "output_type": "stream",
     "text": [
      "2134567890\n"
     ]
    }
   ],
   "source": [
    "findNumbers = r'\\d+'\n",
    "regexResults = re.search(findNumbers, 'not a number, not a number, numbers 2134567890, not a number')\n",
    "print(regexResults.group(0))"
   ]
  },
  {
   "cell_type": "markdown",
   "metadata": {},
   "source": [
    "Now we have the whole block of numbers, there are a huge number of special\n",
    "characters in regex, for the full description of Python's implementation look at\n",
    "the [re docs](https://docs.python.org/3/library/re.html) there is also a short\n",
    "[tutorial](https://docs.python.org/3/howto/regex.html#regex-howto)."
   ]
  },
  {
   "cell_type": "markdown",
   "metadata": {},
   "source": [
    "# <span style=\"color:red\">Section 1</span>\n",
    "<span style=\"color:red\">Construct cells immediately below this that describe and download webcontent relating to your anticipated final project. Use beautiful soup and at least five regular expressions to extract relevant, nontrivial *chunks* of that content (e.g., cleaned sentences, paragraphs, etc.) to a pandas `Dataframe`.</span>"
   ]
  },
  {
   "cell_type": "markdown",
   "metadata": {},
   "source": [
    "Tentatively I am interested in how the media portrayal or coverage of diseases relates to public perception and attitudes about the virus. As a start, I will first examine wikipedia content of diseases."
   ]
  },
  {
   "cell_type": "code",
   "execution_count": 139,
   "metadata": {},
   "outputs": [
    {
     "data": {
      "text/plain": [
       "<Response [200]>"
      ]
     },
     "execution_count": 139,
     "metadata": {},
     "output_type": "execute_result"
    }
   ],
   "source": [
    "# First, check if the url can be requested\n",
    "dis_article = 'https://en.wikipedia.org/wiki/Aneurysm'\n",
    "requests.get(dis_article)"
   ]
  },
  {
   "cell_type": "code",
   "execution_count": 140,
   "metadata": {},
   "outputs": [
    {
     "name": "stdout",
     "output_type": "stream",
     "text": [
      "<!DOCTYPE html>\n",
      "<html class=\"client-nojs\" lang=\"en\" dir=\"ltr\">\n",
      "<head>\n",
      "<meta charset=\"UTF-8\"/>\n",
      "<title>Aneurysm - Wikipedia</title>\n",
      "<script>document.documentElement.className=\"client-js\";RLCONF={\"wgBreakFrames\":!1,\"wgSeparatorTransformTable\":[\"\",\"\"],\"wgDigitTransformTable\":[\"\",\"\"],\"wgDefaultDateFormat\":\"dmy\",\"wgMonthNames\":[\"\",\"January\",\"February\",\"March\",\"April\",\"May\",\"June\",\"July\",\"August\",\"September\",\"October\",\"November\",\"December\"],\"wgRequestId\":\"YAfYSApAIH4AA-tTeGMAAABB\",\"wgCSPNonce\":!1,\"wgCanonicalNamespace\":\"\",\"wgCanonicalSpecialPageName\":!1,\"wgNamespaceNumber\":0,\"wgPageName\":\"Aneurysm\",\"wgTitle\":\"Aneurysm\",\"wgCurRevisionId\":1000434689,\"wgRevisionId\":1000434689,\"wgArticleId\":322553,\"wgIsArticle\":!0,\"wgIsRedirect\":!1,\"wgAction\":\"view\",\"wgUserName\":null,\"wgUserGroups\":[\"*\"],\"wgCategories\":[\"Articles with short description\",\"Short description matches Wikidata\",\"Articles containing Ancient Greek (to 1453)-language text\",\"All articles with unsourced statements\",\"Articles with unsourced\n"
     ]
    }
   ],
   "source": [
    "# Examine the content\n",
    "disContentRequest = requests.get(dis_article)\n",
    "print(disContentRequest.text[:1000])"
   ]
  },
  {
   "cell_type": "code",
   "execution_count": 205,
   "metadata": {},
   "outputs": [
    {
     "name": "stdout",
     "output_type": "stream",
     "text": [
      "\n",
      "\n",
      "\n",
      "\n",
      "Aneurysm - Wikipedia\n",
      "\n",
      "\n",
      "\n",
      "\n",
      "\n",
      "\n",
      "\n",
      "\n",
      "\n",
      "\n",
      "\n",
      "\n",
      "\n",
      "\n",
      "\n",
      "\n",
      "\n",
      "\n",
      "\n",
      "\n",
      "\n",
      "\n",
      "\n",
      "\n",
      "\n",
      "\n",
      "\n",
      "\n",
      "\n",
      "\n",
      "\n",
      "Aneurysm\n",
      "\n",
      "From Wikipedia, the free encyclopedia\n",
      "\n",
      "\n",
      "\n",
      "Jump to navigation\n",
      "Jump to search\n",
      "Bulge in the wall of a blood vessel\n",
      "For other uses, see Ane\n"
     ]
    }
   ],
   "source": [
    "# Place into BeautifulSoup\n",
    "disContentSoup = bs4.BeautifulSoup(disContentRequest.text, 'html.parser')\n",
    "print(disContentSoup.text[:200])"
   ]
  },
  {
   "cell_type": "code",
   "execution_count": 206,
   "metadata": {},
   "outputs": [],
   "source": [
    "# Save the requested text\n",
    "dis_save = 'dis_content_analysis.html'\n",
    "\n",
    "with open(dis_save, mode='w', encoding='utf-8') as f:\n",
    "    f.write(disContentRequest.text)"
   ]
  },
  {
   "cell_type": "code",
   "execution_count": 207,
   "metadata": {},
   "outputs": [
    {
     "name": "stdout",
     "output_type": "stream",
     "text": [
      "An aneurysm is an outward bulging, likened to a bubble or balloon, caused by a localized, abnormal, weak spot on a blood vessel wall.[1] Aneurysms may be a result of a hereditary condition or an acquired disease. Aneurysms can also be a nidus (starting point) for clot formation (thrombosis) and embolization. The word is from Greek: ἀνεύρυσμα, aneurysma, \"dilation\", from ἀνευρύνειν, aneurynein, \"to dilate\". As an aneurysm increases in size, the risk of rupture increases,[2] leading to uncontrolled bleeding. Although they may occur in any blood vessel, particularly lethal examples include aneurysms of the Circle of Willis in the brain, aortic aneurysms affecting the thoracic aorta, and abdominal aortic aneurysms. Aneurysms can arise in the heart itself following a heart attack, including both ventricular and atrial septal aneurysms. There are congenital atrial septal aneurysms, a rare heart defect.\n",
      "\n",
      "Aneurysms are classified by type, morphology, or location.\n",
      "\n",
      "A true aneurysm is one that involves all three layers of the wall of an artery (intima, media and adventitia). True aneurysms include atherosclerotic, syphilitic, and congenital aneurysms, as well as ventricular aneurysms that follow transmural myocardial infarctions (aneurysms that involve all layers of the attenuated wall of the heart are also considered true aneurysms).[3]\n",
      "\n"
     ]
    }
   ],
   "source": [
    "# Take text within <p> tags\n",
    "dis_contentPTags = disContentSoup.body.findAll('p')\n",
    "for pTag in dis_contentPTags[:3]:\n",
    "    print(pTag.text)"
   ]
  },
  {
   "cell_type": "code",
   "execution_count": 208,
   "metadata": {},
   "outputs": [
    {
     "data": {
      "text/plain": [
       "'Aneurysm - Wikipedia'"
      ]
     },
     "execution_count": 208,
     "metadata": {},
     "output_type": "execute_result"
    }
   ],
   "source": [
    "# Get Title\n",
    "contentTitle = disContentSoup.find('title')\n",
    "contentTitle.text"
   ]
  },
  {
   "cell_type": "code",
   "execution_count": 209,
   "metadata": {},
   "outputs": [
    {
     "name": "stdout",
     "output_type": "stream",
     "text": [
      "                                       paragraph-text\n",
      "0   An aneurysm is an outward bulging, likened to ...\n",
      "1   Aneurysms are classified by type, morphology, ...\n",
      "2   A true aneurysm is one that involves all three...\n",
      "3   A false aneurysm, or pseudoaneurysm, is a coll...\n",
      "4   Pseudoaneurysms can be caused by trauma that p...\n",
      "5   Aneurysms can also be classified by their macr...\n",
      "6   Saccular aneurysms, or \"berry\" aneurysms, are ...\n",
      "7   \\nFusiform aneurysms (\"spindle-shaped\" aneurys...\n",
      "8   Aneurysms can also be classified by their loca...\n",
      "9   Cerebral aneurysms, also known as intracranial...\n",
      "10  Abdominal aortic aneurysms are commonly divide...\n",
      "11        The common iliac artery is classified as:\\n\n",
      "12  Aneurysm presentation may range from life-thre...\n",
      "13  Symptoms can occur when the aneurysm pushes on...\n",
      "14  For a ruptured aneurysm, symptoms of a subarac...\n",
      "15  Abdominal aortic aneurysm involves a regional ...\n",
      "16  Risk factors for an aneurysm include diabetes,...\n",
      "17  Specific infective causes associated with aneu...\n",
      "18  A minority of aneurysms are associated with ge...\n",
      "19  Aneurysms form for a variety of interacting re...\n",
      "20  \\nThe pressure of blood within the expanding a...\n",
      "21  Infection. A mycotic aneurysm is an aneurysm t...\n",
      "22  Syphilis. The third stage of syphilis also man...\n",
      "23  Copper deficiency. A minority of aneurysms are...\n",
      "24  Aneurysmal blood vessels are prone to rupture ...\n",
      "25  Blood vessels with aneurysms, on the other han...\n",
      "26  Diagnosis of a ruptured cerebral aneurysm is c...\n",
      "27  Historically, the treatment of arterial aneury...\n",
      "28  There are currently two treatment options for ...\n",
      "29  Surgical clipping was introduced by Walter Dan...\n",
      "30  Endovascular coiling was introduced by Italian...\n",
      "31  For aneurysms in the aorta, arms, legs, or hea...\n",
      "32  Renal aneurysms are very rare consisting of on...\n",
      "33  Incidence rates of cranial aneurysms are estim...\n",
      "34  Pediatric aneurysms have different incidences ...\n",
      "35  Incidence rates are two to three times higher ...\n",
      "36  Most patients, particularly infants, present w...\n",
      "37  Modeling of aneurysms consists of creating a 3...\n",
      "38  In the past, aneurysms were modeled as rigid s...\n"
     ]
    }
   ],
   "source": [
    "# Paragraphs without reference numbers\n",
    "disParagraphs = []\n",
    "for pTag in dis_contentPTags:\n",
    "    disParagraphs.append(re.sub('\\[\\d+\\]', '', pTag.text))\n",
    "\n",
    "#convert to a DataFrame\n",
    "disParagraphsDF = pandas.DataFrame({'paragraph-text' : disParagraphs})\n",
    "print(disParagraphsDF)"
   ]
  },
  {
   "cell_type": "code",
   "execution_count": 210,
   "metadata": {},
   "outputs": [
    {
     "data": {
      "text/plain": [
       "[]"
      ]
     },
     "execution_count": 210,
     "metadata": {},
     "output_type": "execute_result"
    }
   ],
   "source": [
    "# find if numbers of deaths are mentioned\n",
    "findDeaths = r'[0-9,]+ death[s]+'\n",
    "deaths = []\n",
    "for parag in contentParagraphsDF['paragraph-text']:\n",
    "    regexResults = re.search(findDeaths, parag)\n",
    "    if regexResults:\n",
    "        deaths.append(regexResults.group())\n",
    "deaths"
   ]
  },
  {
   "cell_type": "code",
   "execution_count": 211,
   "metadata": {},
   "outputs": [
    {
     "data": {
      "text/plain": [
       "[]"
      ]
     },
     "execution_count": 211,
     "metadata": {},
     "output_type": "execute_result"
    }
   ],
   "source": [
    "# find if numbers of cases are mentioned\n",
    "findCases = r'[0-9,]+ case[s]+'\n",
    "cases = []\n",
    "for parag in contentParagraphsDF['paragraph-text']:\n",
    "    regexResults = re.search(findCases, parag)\n",
    "    if regexResults:\n",
    "        cases.append(regexResults.group())\n",
    "cases"
   ]
  },
  {
   "cell_type": "code",
   "execution_count": 212,
   "metadata": {},
   "outputs": [
    {
     "data": {
      "text/plain": [
       "[]"
      ]
     },
     "execution_count": 212,
     "metadata": {},
     "output_type": "execute_result"
    }
   ],
   "source": [
    "# find if numbers of cases are mentioned\n",
    "findCases = r'[0-9,]+ [a-z] case[s]+'\n",
    "cases = []\n",
    "for parag in contentParagraphsDF['paragraph-text']:\n",
    "    regexResults = re.search(findCases, parag)\n",
    "    if regexResults:\n",
    "        cases.append(regexResults.group())\n",
    "cases"
   ]
  },
  {
   "cell_type": "code",
   "execution_count": 213,
   "metadata": {},
   "outputs": [
    {
     "data": {
      "text/plain": [
       "['50%', '50%', '3%', '54.8%', '0.09%', '0.4%', '95%']"
      ]
     },
     "execution_count": 213,
     "metadata": {},
     "output_type": "execute_result"
    }
   ],
   "source": [
    "# find if percentages are mentioned\n",
    "findRates = r'[0-9.]+\\%'\n",
    "rates = []\n",
    "for parag in disParagraphsDF['paragraph-text']:\n",
    "    regexResults = re.search(findRates, parag)\n",
    "    if regexResults:\n",
    "        rates.append(regexResults.group(0))\n",
    "rates"
   ]
  },
  {
   "cell_type": "code",
   "execution_count": 214,
   "metadata": {},
   "outputs": [
    {
     "data": {
      "text/html": [
       "<div>\n",
       "<style scoped>\n",
       "    .dataframe tbody tr th:only-of-type {\n",
       "        vertical-align: middle;\n",
       "    }\n",
       "\n",
       "    .dataframe tbody tr th {\n",
       "        vertical-align: top;\n",
       "    }\n",
       "\n",
       "    .dataframe thead th {\n",
       "        text-align: right;\n",
       "    }\n",
       "</style>\n",
       "<table border=\"1\" class=\"dataframe\">\n",
       "  <thead>\n",
       "    <tr style=\"text-align: right;\">\n",
       "      <th></th>\n",
       "      <th>sentence-text</th>\n",
       "    </tr>\n",
       "  </thead>\n",
       "  <tbody>\n",
       "    <tr>\n",
       "      <th>0</th>\n",
       "      <td>An aneurysm is an outward bulging, likened to ...</td>\n",
       "    </tr>\n",
       "    <tr>\n",
       "      <th>1</th>\n",
       "      <td>A false aneurysm, or pseudoaneurysm, is a coll...</td>\n",
       "    </tr>\n",
       "    <tr>\n",
       "      <th>2</th>\n",
       "      <td>Aneurysms form for a variety of interacting re...</td>\n",
       "    </tr>\n",
       "    <tr>\n",
       "      <th>3</th>\n",
       "      <td>The pressure of blood within the expanding ane...</td>\n",
       "    </tr>\n",
       "    <tr>\n",
       "      <th>4</th>\n",
       "      <td>Aneurysmal blood vessels are prone to rupture ...</td>\n",
       "    </tr>\n",
       "    <tr>\n",
       "      <th>5</th>\n",
       "      <td>Blood vessels with aneurysms, on the other han...</td>\n",
       "    </tr>\n",
       "    <tr>\n",
       "      <th>6</th>\n",
       "      <td>Diagnosis of a ruptured cerebral aneurysm is c...</td>\n",
       "    </tr>\n",
       "    <tr>\n",
       "      <th>7</th>\n",
       "      <td>Historically, the treatment of arterial aneury...</td>\n",
       "    </tr>\n",
       "    <tr>\n",
       "      <th>8</th>\n",
       "      <td>Modeling of aneurysms consists of creating a 3...</td>\n",
       "    </tr>\n",
       "    <tr>\n",
       "      <th>9</th>\n",
       "      <td>In the past, aneurysms were modeled as rigid s...</td>\n",
       "    </tr>\n",
       "  </tbody>\n",
       "</table>\n",
       "</div>"
      ],
      "text/plain": [
       "                                       sentence-text\n",
       "0  An aneurysm is an outward bulging, likened to ...\n",
       "1  A false aneurysm, or pseudoaneurysm, is a coll...\n",
       "2  Aneurysms form for a variety of interacting re...\n",
       "3  The pressure of blood within the expanding ane...\n",
       "4  Aneurysmal blood vessels are prone to rupture ...\n",
       "5  Blood vessels with aneurysms, on the other han...\n",
       "6  Diagnosis of a ruptured cerebral aneurysm is c...\n",
       "7  Historically, the treatment of arterial aneury...\n",
       "8  Modeling of aneurysms consists of creating a 3...\n",
       "9  In the past, aneurysms were modeled as rigid s..."
      ]
     },
     "execution_count": 214,
     "metadata": {},
     "output_type": "execute_result"
    }
   ],
   "source": [
    "# find sentences that mentions blood\n",
    "blood_mentioned = []\n",
    "for parag in disParagraphsDF['paragraph-text']:\n",
    "    blood_find = re.search(r'blood', parag)\n",
    "    if blood_find:\n",
    "        blood_mentioned.append(parag)\n",
    "blood_df = pandas.DataFrame({'sentence-text' : blood_mentioned})\n",
    "blood_df['sentence-text'] = blood_df['sentence-text'].apply(lambda x: x.strip())\n",
    "blood_df"
   ]
  },
  {
   "cell_type": "code",
   "execution_count": 215,
   "metadata": {},
   "outputs": [
    {
     "data": {
      "text/html": [
       "<div>\n",
       "<style scoped>\n",
       "    .dataframe tbody tr th:only-of-type {\n",
       "        vertical-align: middle;\n",
       "    }\n",
       "\n",
       "    .dataframe tbody tr th {\n",
       "        vertical-align: top;\n",
       "    }\n",
       "\n",
       "    .dataframe thead th {\n",
       "        text-align: right;\n",
       "    }\n",
       "</style>\n",
       "<table border=\"1\" class=\"dataframe\">\n",
       "  <thead>\n",
       "    <tr style=\"text-align: right;\">\n",
       "      <th></th>\n",
       "      <th>sentence-text</th>\n",
       "    </tr>\n",
       "  </thead>\n",
       "  <tbody>\n",
       "    <tr>\n",
       "      <th>0</th>\n",
       "      <td>An aneurysm is an outward bulging, likened to ...</td>\n",
       "    </tr>\n",
       "    <tr>\n",
       "      <th>1</th>\n",
       "      <td>Cerebral aneurysms, also known as intracranial...</td>\n",
       "    </tr>\n",
       "    <tr>\n",
       "      <th>2</th>\n",
       "      <td>Symptoms can occur when the aneurysm pushes on...</td>\n",
       "    </tr>\n",
       "    <tr>\n",
       "      <th>3</th>\n",
       "      <td>Diagnosis of a ruptured cerebral aneurysm is c...</td>\n",
       "    </tr>\n",
       "    <tr>\n",
       "      <th>4</th>\n",
       "      <td>There are currently two treatment options for ...</td>\n",
       "    </tr>\n",
       "    <tr>\n",
       "      <th>5</th>\n",
       "      <td>Endovascular coiling was introduced by Italian...</td>\n",
       "    </tr>\n",
       "  </tbody>\n",
       "</table>\n",
       "</div>"
      ],
      "text/plain": [
       "                                       sentence-text\n",
       "0  An aneurysm is an outward bulging, likened to ...\n",
       "1  Cerebral aneurysms, also known as intracranial...\n",
       "2  Symptoms can occur when the aneurysm pushes on...\n",
       "3  Diagnosis of a ruptured cerebral aneurysm is c...\n",
       "4  There are currently two treatment options for ...\n",
       "5  Endovascular coiling was introduced by Italian..."
      ]
     },
     "execution_count": 215,
     "metadata": {},
     "output_type": "execute_result"
    }
   ],
   "source": [
    "# find sentences that mentions brain\n",
    "brain_mentioned = []\n",
    "for parag in disParagraphsDF['paragraph-text']:\n",
    "    brain_find = re.search(r'brain', parag)\n",
    "    if brain_find:\n",
    "        brain_mentioned.append(parag)\n",
    "brain_df = pandas.DataFrame({'sentence-text' : brain_mentioned})\n",
    "brain_df['sentence-text'] = brain_df['sentence-text'].apply(lambda x: x.strip())\n",
    "brain_df"
   ]
  },
  {
   "cell_type": "markdown",
   "metadata": {},
   "source": [
    "\n",
    "# Spidering\n",
    "\n",
    "What if we want to to get a bunch of different pages from wikipedia. We would\n",
    "need to get the url for each of the pages we want. Typically, we want pages that\n",
    "are linked to by other pages and so we will need to parse pages and identify the\n",
    "links. Right now we will be retrieving all links in the body of the content\n",
    "analysis page.\n",
    "\n",
    "To do this we will need to find all the `<a>` (anchor) tags with `href`s\n",
    "(hyperlink references) inside of `<p>` tags. `href` can have many\n",
    "[different](http://stackoverflow.com/questions/4855168/what-is-href-and-why-is-\n",
    "it-used) [forms](https://en.wikipedia.org/wiki/Hyperlink#Hyperlinks_in_HTML) so\n",
    "dealing with them can be tricky, but generally, you will want to extract\n",
    "absolute or relative links. An absolute link is one you can follow without\n",
    "modification, while a relative link requires a base url that you will then\n",
    "append. Wikipedia uses relative urls for its internal links: below is an example\n",
    "for dealing with them."
   ]
  },
  {
   "cell_type": "code",
   "execution_count": 180,
   "metadata": {},
   "outputs": [
    {
     "name": "stdout",
     "output_type": "stream",
     "text": [
      "[]\n"
     ]
    }
   ],
   "source": [
    "#wikipedia_base_url = 'https://en.wikipedia.org'\n",
    "\n",
    "otherPAgeURLS = []\n",
    "#We also want to know where the links come from so we also will get:\n",
    "#the paragraph number\n",
    "#the word the link is in\n",
    "for paragraphNum, pTag in enumerate(contentPTags):\n",
    "    #we only want hrefs that link to wiki pages\n",
    "    tagLinks = pTag.findAll('a', href=re.compile('/wiki/'), class_=False)\n",
    "    for aTag in tagLinks:\n",
    "        #We need to extract the url from the <a> tag\n",
    "        relurl = aTag.get('href')\n",
    "        linkText = aTag.text\n",
    "        #wikipedia_base_url is the base we can use the urllib joining function to merge them\n",
    "        #Giving a nice structured tupe like this means we can use tuple expansion later\n",
    "        otherPAgeURLS.append((\n",
    "            urllib.parse.urljoin(wikipedia_base_url, relurl),\n",
    "            paragraphNum,\n",
    "            linkText,\n",
    "        ))\n",
    "print(otherPAgeURLS[:10])"
   ]
  },
  {
   "cell_type": "code",
   "execution_count": 178,
   "metadata": {},
   "outputs": [
    {
     "name": "stdout",
     "output_type": "stream",
     "text": [
      "[<p class=\"metadata__byline\"><span class=\"metadata__byline__author\">By <a href=\"/profiles/jessie-yeung\">Jessie Yeung</a>, CNN</span></p>, <p class=\"metadata__show\"></p>, <p class=\"update-time\">Updated 0635 GMT (1435 HKT) January 20, 2021 <span class=\"video__source top_source\" id=\"js-pagetop_video_source\"></span></p>, <p class=\"zn-body__paragraph speakable\" data-paragraph-id=\"paragraph_0B655B09-6269-76B9-C4E9-1D9B638DCD64\"><cite class=\"el-editorial-source\"> (CNN)</cite>China is rushing to build a massive quarantine camp that can house more than 4,000 people, after an outbreak of <a href=\"https://www.cnn.com/specials/world/coronavirus-outbreak-intl-hnk\" target=\"_blank\">Covid-19</a> this month that has left tens of millions of people under strict lockdown. </p>, <p class=\"zn-body__paragraph zn-body__footer\"></p>]\n"
     ]
    }
   ],
   "source": [
    "print(contentPTags)"
   ]
  },
  {
   "cell_type": "markdown",
   "metadata": {},
   "source": [
    "Another excursion: Why do we use enumerate() here? enumerate() takes a collection, enumerates, and returns an enumate object with both the numbers and the collection. For example, contentPTags (the collection we used here) is comprised of paragraphs. We want the paragraph number of each paragraph. And this is what enumerate() does: it returns the paragraph number and the paragraph. "
   ]
  },
  {
   "cell_type": "markdown",
   "metadata": {},
   "source": [
    "We will be adding these new texts to our DataFrame `contentParagraphsDF` so we\n",
    "will need to add 2 more columns to keep track of paragraph numbers and sources."
   ]
  },
  {
   "cell_type": "code",
   "execution_count": null,
   "metadata": {},
   "outputs": [],
   "source": [
    "contentParagraphsDF['source'] = [wikipedia_content_analysis] * len(contentParagraphsDF['paragraph-text'])\n",
    "contentParagraphsDF['paragraph-number'] = range(len(contentParagraphsDF['paragraph-text']))\n",
    "\n",
    "contentParagraphsDF"
   ]
  },
  {
   "cell_type": "markdown",
   "metadata": {},
   "source": [
    "Then we can add two more columns to our `Dataframe` and define a function to\n",
    "parse\n",
    "each linked page and add its text to our DataFrame."
   ]
  },
  {
   "cell_type": "code",
   "execution_count": null,
   "metadata": {},
   "outputs": [],
   "source": [
    "contentParagraphsDF['source-paragraph-number'] = [None] * len(contentParagraphsDF['paragraph-text'])\n",
    "contentParagraphsDF['source-paragraph-text'] = [None] * len(contentParagraphsDF['paragraph-text'])\n",
    "\n",
    "def getTextFromWikiPage(targetURL, sourceParNum, sourceText):\n",
    "    #Make a dict to store data before adding it to the DataFrame\n",
    "    parsDict = {'source' : [], 'paragraph-number' : [], 'paragraph-text' : [], 'source-paragraph-number' : [],  'source-paragraph-text' : []}\n",
    "    #Now we get the page\n",
    "    r = requests.get(targetURL)\n",
    "    soup = bs4.BeautifulSoup(r.text, 'html.parser')\n",
    "    #enumerating gives use the paragraph number\n",
    "    for parNum, pTag in enumerate(soup.body.findAll('p')):\n",
    "        #same regex as before\n",
    "        parsDict['paragraph-text'].append(re.sub(r'\\[\\d+\\]', '', pTag.text))\n",
    "        parsDict['paragraph-number'].append(parNum)\n",
    "        parsDict['source'].append(targetURL)\n",
    "        parsDict['source-paragraph-number'].append(sourceParNum)\n",
    "        parsDict['source-paragraph-text'].append(sourceText)\n",
    "    return pandas.DataFrame(parsDict)"
   ]
  },
  {
   "cell_type": "markdown",
   "metadata": {},
   "source": [
    "And run it on our list of link tags"
   ]
  },
  {
   "cell_type": "code",
   "execution_count": 188,
   "metadata": {},
   "outputs": [
    {
     "data": {
      "text/html": [
       "<div>\n",
       "<style scoped>\n",
       "    .dataframe tbody tr th:only-of-type {\n",
       "        vertical-align: middle;\n",
       "    }\n",
       "\n",
       "    .dataframe tbody tr th {\n",
       "        vertical-align: top;\n",
       "    }\n",
       "\n",
       "    .dataframe thead th {\n",
       "        text-align: right;\n",
       "    }\n",
       "</style>\n",
       "<table border=\"1\" class=\"dataframe\">\n",
       "  <thead>\n",
       "    <tr style=\"text-align: right;\">\n",
       "      <th></th>\n",
       "      <th>paragraph-text</th>\n",
       "      <th>source</th>\n",
       "      <th>paragraph-number</th>\n",
       "      <th>source-paragraph-number</th>\n",
       "      <th>source-paragraph-text</th>\n",
       "    </tr>\n",
       "  </thead>\n",
       "  <tbody>\n",
       "    <tr>\n",
       "      <th>0</th>\n",
       "      <td>By Jessie Yeung, CNN</td>\n",
       "      <td>https://en.wikipedia.org/wiki/Content_analysis</td>\n",
       "      <td>0</td>\n",
       "      <td>None</td>\n",
       "      <td>None</td>\n",
       "    </tr>\n",
       "    <tr>\n",
       "      <th>1</th>\n",
       "      <td></td>\n",
       "      <td>https://en.wikipedia.org/wiki/Content_analysis</td>\n",
       "      <td>1</td>\n",
       "      <td>None</td>\n",
       "      <td>None</td>\n",
       "    </tr>\n",
       "    <tr>\n",
       "      <th>2</th>\n",
       "      <td>Updated 0635 GMT (1435 HKT) January 20, 2021</td>\n",
       "      <td>https://en.wikipedia.org/wiki/Content_analysis</td>\n",
       "      <td>2</td>\n",
       "      <td>None</td>\n",
       "      <td>None</td>\n",
       "    </tr>\n",
       "    <tr>\n",
       "      <th>3</th>\n",
       "      <td>(CNN)China is rushing to build a massive quar...</td>\n",
       "      <td>https://en.wikipedia.org/wiki/Content_analysis</td>\n",
       "      <td>3</td>\n",
       "      <td>None</td>\n",
       "      <td>None</td>\n",
       "    </tr>\n",
       "    <tr>\n",
       "      <th>4</th>\n",
       "      <td></td>\n",
       "      <td>https://en.wikipedia.org/wiki/Content_analysis</td>\n",
       "      <td>4</td>\n",
       "      <td>None</td>\n",
       "      <td>None</td>\n",
       "    </tr>\n",
       "    <tr>\n",
       "      <th>...</th>\n",
       "      <td>...</td>\n",
       "      <td>...</td>\n",
       "      <td>...</td>\n",
       "      <td>...</td>\n",
       "      <td>...</td>\n",
       "    </tr>\n",
       "    <tr>\n",
       "      <th>77</th>\n",
       "      <td>Assuming a normal circulation, an embolus form...</td>\n",
       "      <td>https://en.wikipedia.org/wiki/Embolism</td>\n",
       "      <td>10</td>\n",
       "      <td>0</td>\n",
       "      <td>embolization</td>\n",
       "    </tr>\n",
       "    <tr>\n",
       "      <th>78</th>\n",
       "      <td>In paradoxical embolism, also known as crossed...</td>\n",
       "      <td>https://en.wikipedia.org/wiki/Embolism</td>\n",
       "      <td>11</td>\n",
       "      <td>0</td>\n",
       "      <td>embolization</td>\n",
       "    </tr>\n",
       "    <tr>\n",
       "      <th>79</th>\n",
       "      <td>The direction of the embolus can be one of two...</td>\n",
       "      <td>https://en.wikipedia.org/wiki/Embolism</td>\n",
       "      <td>12</td>\n",
       "      <td>0</td>\n",
       "      <td>embolization</td>\n",
       "    </tr>\n",
       "    <tr>\n",
       "      <th>80</th>\n",
       "      <td>In anterograde embolism, the movement of embol...</td>\n",
       "      <td>https://en.wikipedia.org/wiki/Embolism</td>\n",
       "      <td>13</td>\n",
       "      <td>0</td>\n",
       "      <td>embolization</td>\n",
       "    </tr>\n",
       "    <tr>\n",
       "      <th>81</th>\n",
       "      <td>The word embolism comes from the Greek ἐμβολισ...</td>\n",
       "      <td>https://en.wikipedia.org/wiki/Embolism</td>\n",
       "      <td>14</td>\n",
       "      <td>0</td>\n",
       "      <td>embolization</td>\n",
       "    </tr>\n",
       "  </tbody>\n",
       "</table>\n",
       "<p>82 rows × 5 columns</p>\n",
       "</div>"
      ],
      "text/plain": [
       "                                       paragraph-text  \\\n",
       "0                                By Jessie Yeung, CNN   \n",
       "1                                                       \n",
       "2       Updated 0635 GMT (1435 HKT) January 20, 2021    \n",
       "3    (CNN)China is rushing to build a massive quar...   \n",
       "4                                                       \n",
       "..                                                ...   \n",
       "77  Assuming a normal circulation, an embolus form...   \n",
       "78  In paradoxical embolism, also known as crossed...   \n",
       "79  The direction of the embolus can be one of two...   \n",
       "80  In anterograde embolism, the movement of embol...   \n",
       "81  The word embolism comes from the Greek ἐμβολισ...   \n",
       "\n",
       "                                            source  paragraph-number  \\\n",
       "0   https://en.wikipedia.org/wiki/Content_analysis                 0   \n",
       "1   https://en.wikipedia.org/wiki/Content_analysis                 1   \n",
       "2   https://en.wikipedia.org/wiki/Content_analysis                 2   \n",
       "3   https://en.wikipedia.org/wiki/Content_analysis                 3   \n",
       "4   https://en.wikipedia.org/wiki/Content_analysis                 4   \n",
       "..                                             ...               ...   \n",
       "77          https://en.wikipedia.org/wiki/Embolism                10   \n",
       "78          https://en.wikipedia.org/wiki/Embolism                11   \n",
       "79          https://en.wikipedia.org/wiki/Embolism                12   \n",
       "80          https://en.wikipedia.org/wiki/Embolism                13   \n",
       "81          https://en.wikipedia.org/wiki/Embolism                14   \n",
       "\n",
       "   source-paragraph-number source-paragraph-text  \n",
       "0                     None                  None  \n",
       "1                     None                  None  \n",
       "2                     None                  None  \n",
       "3                     None                  None  \n",
       "4                     None                  None  \n",
       "..                     ...                   ...  \n",
       "77                       0          embolization  \n",
       "78                       0          embolization  \n",
       "79                       0          embolization  \n",
       "80                       0          embolization  \n",
       "81                       0          embolization  \n",
       "\n",
       "[82 rows x 5 columns]"
      ]
     },
     "execution_count": 188,
     "metadata": {},
     "output_type": "execute_result"
    }
   ],
   "source": [
    "for urlTuple in otherPAgeURLS[:3]:\n",
    "    #ignore_index means the indices will not be reset after each append\n",
    "    contentParagraphsDF = contentParagraphsDF.append(getTextFromWikiPage(*urlTuple),ignore_index=True)\n",
    "contentParagraphsDF"
   ]
  },
  {
   "cell_type": "markdown",
   "metadata": {},
   "source": [
    "\n",
    "# <span style=\"color:red\">Section 2</span>\n",
    "<span style=\"color:red\">Construct cells immediately below this that spider webcontent from another site with content relating to your anticipated final project. Specifically, identify urls on a core page, then follow and extract content from them into a pandas `Dataframe`. In addition, demonstrate a *recursive* spider, which follows more than one level of links (i.e., follows links from a site, then follows links on followed sites to new sites, etc.), making sure to define a reasonable endpoint so that you do not wander the web forever :-).</span>\n",
    "\n"
   ]
  },
  {
   "cell_type": "code",
   "execution_count": 216,
   "metadata": {},
   "outputs": [
    {
     "data": {
      "text/html": [
       "<div>\n",
       "<style scoped>\n",
       "    .dataframe tbody tr th:only-of-type {\n",
       "        vertical-align: middle;\n",
       "    }\n",
       "\n",
       "    .dataframe tbody tr th {\n",
       "        vertical-align: top;\n",
       "    }\n",
       "\n",
       "    .dataframe thead th {\n",
       "        text-align: right;\n",
       "    }\n",
       "</style>\n",
       "<table border=\"1\" class=\"dataframe\">\n",
       "  <thead>\n",
       "    <tr style=\"text-align: right;\">\n",
       "      <th></th>\n",
       "      <th>paragraph-text</th>\n",
       "      <th>source</th>\n",
       "      <th>paragraph-number</th>\n",
       "    </tr>\n",
       "  </thead>\n",
       "  <tbody>\n",
       "    <tr>\n",
       "      <th>0</th>\n",
       "      <td>An aneurysm is an outward bulging, likened to ...</td>\n",
       "      <td>https://en.wikipedia.org/wiki/Aneurysm</td>\n",
       "      <td>0</td>\n",
       "    </tr>\n",
       "    <tr>\n",
       "      <th>1</th>\n",
       "      <td>Aneurysms are classified by type, morphology, ...</td>\n",
       "      <td>https://en.wikipedia.org/wiki/Aneurysm</td>\n",
       "      <td>1</td>\n",
       "    </tr>\n",
       "    <tr>\n",
       "      <th>2</th>\n",
       "      <td>A true aneurysm is one that involves all three...</td>\n",
       "      <td>https://en.wikipedia.org/wiki/Aneurysm</td>\n",
       "      <td>2</td>\n",
       "    </tr>\n",
       "    <tr>\n",
       "      <th>3</th>\n",
       "      <td>A false aneurysm, or pseudoaneurysm, is a coll...</td>\n",
       "      <td>https://en.wikipedia.org/wiki/Aneurysm</td>\n",
       "      <td>3</td>\n",
       "    </tr>\n",
       "    <tr>\n",
       "      <th>4</th>\n",
       "      <td>Pseudoaneurysms can be caused by trauma that p...</td>\n",
       "      <td>https://en.wikipedia.org/wiki/Aneurysm</td>\n",
       "      <td>4</td>\n",
       "    </tr>\n",
       "    <tr>\n",
       "      <th>5</th>\n",
       "      <td>Aneurysms can also be classified by their macr...</td>\n",
       "      <td>https://en.wikipedia.org/wiki/Aneurysm</td>\n",
       "      <td>5</td>\n",
       "    </tr>\n",
       "    <tr>\n",
       "      <th>6</th>\n",
       "      <td>Saccular aneurysms, or \"berry\" aneurysms, are ...</td>\n",
       "      <td>https://en.wikipedia.org/wiki/Aneurysm</td>\n",
       "      <td>6</td>\n",
       "    </tr>\n",
       "    <tr>\n",
       "      <th>7</th>\n",
       "      <td>\\nFusiform aneurysms (\"spindle-shaped\" aneurys...</td>\n",
       "      <td>https://en.wikipedia.org/wiki/Aneurysm</td>\n",
       "      <td>7</td>\n",
       "    </tr>\n",
       "    <tr>\n",
       "      <th>8</th>\n",
       "      <td>Aneurysms can also be classified by their loca...</td>\n",
       "      <td>https://en.wikipedia.org/wiki/Aneurysm</td>\n",
       "      <td>8</td>\n",
       "    </tr>\n",
       "    <tr>\n",
       "      <th>9</th>\n",
       "      <td>Cerebral aneurysms, also known as intracranial...</td>\n",
       "      <td>https://en.wikipedia.org/wiki/Aneurysm</td>\n",
       "      <td>9</td>\n",
       "    </tr>\n",
       "    <tr>\n",
       "      <th>10</th>\n",
       "      <td>Abdominal aortic aneurysms are commonly divide...</td>\n",
       "      <td>https://en.wikipedia.org/wiki/Aneurysm</td>\n",
       "      <td>10</td>\n",
       "    </tr>\n",
       "    <tr>\n",
       "      <th>11</th>\n",
       "      <td>The common iliac artery is classified as:\\n</td>\n",
       "      <td>https://en.wikipedia.org/wiki/Aneurysm</td>\n",
       "      <td>11</td>\n",
       "    </tr>\n",
       "    <tr>\n",
       "      <th>12</th>\n",
       "      <td>Aneurysm presentation may range from life-thre...</td>\n",
       "      <td>https://en.wikipedia.org/wiki/Aneurysm</td>\n",
       "      <td>12</td>\n",
       "    </tr>\n",
       "    <tr>\n",
       "      <th>13</th>\n",
       "      <td>Symptoms can occur when the aneurysm pushes on...</td>\n",
       "      <td>https://en.wikipedia.org/wiki/Aneurysm</td>\n",
       "      <td>13</td>\n",
       "    </tr>\n",
       "    <tr>\n",
       "      <th>14</th>\n",
       "      <td>For a ruptured aneurysm, symptoms of a subarac...</td>\n",
       "      <td>https://en.wikipedia.org/wiki/Aneurysm</td>\n",
       "      <td>14</td>\n",
       "    </tr>\n",
       "    <tr>\n",
       "      <th>15</th>\n",
       "      <td>Abdominal aortic aneurysm involves a regional ...</td>\n",
       "      <td>https://en.wikipedia.org/wiki/Aneurysm</td>\n",
       "      <td>15</td>\n",
       "    </tr>\n",
       "    <tr>\n",
       "      <th>16</th>\n",
       "      <td>Risk factors for an aneurysm include diabetes,...</td>\n",
       "      <td>https://en.wikipedia.org/wiki/Aneurysm</td>\n",
       "      <td>16</td>\n",
       "    </tr>\n",
       "    <tr>\n",
       "      <th>17</th>\n",
       "      <td>Specific infective causes associated with aneu...</td>\n",
       "      <td>https://en.wikipedia.org/wiki/Aneurysm</td>\n",
       "      <td>17</td>\n",
       "    </tr>\n",
       "    <tr>\n",
       "      <th>18</th>\n",
       "      <td>A minority of aneurysms are associated with ge...</td>\n",
       "      <td>https://en.wikipedia.org/wiki/Aneurysm</td>\n",
       "      <td>18</td>\n",
       "    </tr>\n",
       "    <tr>\n",
       "      <th>19</th>\n",
       "      <td>Aneurysms form for a variety of interacting re...</td>\n",
       "      <td>https://en.wikipedia.org/wiki/Aneurysm</td>\n",
       "      <td>19</td>\n",
       "    </tr>\n",
       "    <tr>\n",
       "      <th>20</th>\n",
       "      <td>\\nThe pressure of blood within the expanding a...</td>\n",
       "      <td>https://en.wikipedia.org/wiki/Aneurysm</td>\n",
       "      <td>20</td>\n",
       "    </tr>\n",
       "    <tr>\n",
       "      <th>21</th>\n",
       "      <td>Infection. A mycotic aneurysm is an aneurysm t...</td>\n",
       "      <td>https://en.wikipedia.org/wiki/Aneurysm</td>\n",
       "      <td>21</td>\n",
       "    </tr>\n",
       "    <tr>\n",
       "      <th>22</th>\n",
       "      <td>Syphilis. The third stage of syphilis also man...</td>\n",
       "      <td>https://en.wikipedia.org/wiki/Aneurysm</td>\n",
       "      <td>22</td>\n",
       "    </tr>\n",
       "    <tr>\n",
       "      <th>23</th>\n",
       "      <td>Copper deficiency. A minority of aneurysms are...</td>\n",
       "      <td>https://en.wikipedia.org/wiki/Aneurysm</td>\n",
       "      <td>23</td>\n",
       "    </tr>\n",
       "    <tr>\n",
       "      <th>24</th>\n",
       "      <td>Aneurysmal blood vessels are prone to rupture ...</td>\n",
       "      <td>https://en.wikipedia.org/wiki/Aneurysm</td>\n",
       "      <td>24</td>\n",
       "    </tr>\n",
       "    <tr>\n",
       "      <th>25</th>\n",
       "      <td>Blood vessels with aneurysms, on the other han...</td>\n",
       "      <td>https://en.wikipedia.org/wiki/Aneurysm</td>\n",
       "      <td>25</td>\n",
       "    </tr>\n",
       "    <tr>\n",
       "      <th>26</th>\n",
       "      <td>Diagnosis of a ruptured cerebral aneurysm is c...</td>\n",
       "      <td>https://en.wikipedia.org/wiki/Aneurysm</td>\n",
       "      <td>26</td>\n",
       "    </tr>\n",
       "    <tr>\n",
       "      <th>27</th>\n",
       "      <td>Historically, the treatment of arterial aneury...</td>\n",
       "      <td>https://en.wikipedia.org/wiki/Aneurysm</td>\n",
       "      <td>27</td>\n",
       "    </tr>\n",
       "    <tr>\n",
       "      <th>28</th>\n",
       "      <td>There are currently two treatment options for ...</td>\n",
       "      <td>https://en.wikipedia.org/wiki/Aneurysm</td>\n",
       "      <td>28</td>\n",
       "    </tr>\n",
       "    <tr>\n",
       "      <th>29</th>\n",
       "      <td>Surgical clipping was introduced by Walter Dan...</td>\n",
       "      <td>https://en.wikipedia.org/wiki/Aneurysm</td>\n",
       "      <td>29</td>\n",
       "    </tr>\n",
       "    <tr>\n",
       "      <th>30</th>\n",
       "      <td>Endovascular coiling was introduced by Italian...</td>\n",
       "      <td>https://en.wikipedia.org/wiki/Aneurysm</td>\n",
       "      <td>30</td>\n",
       "    </tr>\n",
       "    <tr>\n",
       "      <th>31</th>\n",
       "      <td>For aneurysms in the aorta, arms, legs, or hea...</td>\n",
       "      <td>https://en.wikipedia.org/wiki/Aneurysm</td>\n",
       "      <td>31</td>\n",
       "    </tr>\n",
       "    <tr>\n",
       "      <th>32</th>\n",
       "      <td>Renal aneurysms are very rare consisting of on...</td>\n",
       "      <td>https://en.wikipedia.org/wiki/Aneurysm</td>\n",
       "      <td>32</td>\n",
       "    </tr>\n",
       "    <tr>\n",
       "      <th>33</th>\n",
       "      <td>Incidence rates of cranial aneurysms are estim...</td>\n",
       "      <td>https://en.wikipedia.org/wiki/Aneurysm</td>\n",
       "      <td>33</td>\n",
       "    </tr>\n",
       "    <tr>\n",
       "      <th>34</th>\n",
       "      <td>Pediatric aneurysms have different incidences ...</td>\n",
       "      <td>https://en.wikipedia.org/wiki/Aneurysm</td>\n",
       "      <td>34</td>\n",
       "    </tr>\n",
       "    <tr>\n",
       "      <th>35</th>\n",
       "      <td>Incidence rates are two to three times higher ...</td>\n",
       "      <td>https://en.wikipedia.org/wiki/Aneurysm</td>\n",
       "      <td>35</td>\n",
       "    </tr>\n",
       "    <tr>\n",
       "      <th>36</th>\n",
       "      <td>Most patients, particularly infants, present w...</td>\n",
       "      <td>https://en.wikipedia.org/wiki/Aneurysm</td>\n",
       "      <td>36</td>\n",
       "    </tr>\n",
       "    <tr>\n",
       "      <th>37</th>\n",
       "      <td>Modeling of aneurysms consists of creating a 3...</td>\n",
       "      <td>https://en.wikipedia.org/wiki/Aneurysm</td>\n",
       "      <td>37</td>\n",
       "    </tr>\n",
       "    <tr>\n",
       "      <th>38</th>\n",
       "      <td>In the past, aneurysms were modeled as rigid s...</td>\n",
       "      <td>https://en.wikipedia.org/wiki/Aneurysm</td>\n",
       "      <td>38</td>\n",
       "    </tr>\n",
       "  </tbody>\n",
       "</table>\n",
       "</div>"
      ],
      "text/plain": [
       "                                       paragraph-text  \\\n",
       "0   An aneurysm is an outward bulging, likened to ...   \n",
       "1   Aneurysms are classified by type, morphology, ...   \n",
       "2   A true aneurysm is one that involves all three...   \n",
       "3   A false aneurysm, or pseudoaneurysm, is a coll...   \n",
       "4   Pseudoaneurysms can be caused by trauma that p...   \n",
       "5   Aneurysms can also be classified by their macr...   \n",
       "6   Saccular aneurysms, or \"berry\" aneurysms, are ...   \n",
       "7   \\nFusiform aneurysms (\"spindle-shaped\" aneurys...   \n",
       "8   Aneurysms can also be classified by their loca...   \n",
       "9   Cerebral aneurysms, also known as intracranial...   \n",
       "10  Abdominal aortic aneurysms are commonly divide...   \n",
       "11        The common iliac artery is classified as:\\n   \n",
       "12  Aneurysm presentation may range from life-thre...   \n",
       "13  Symptoms can occur when the aneurysm pushes on...   \n",
       "14  For a ruptured aneurysm, symptoms of a subarac...   \n",
       "15  Abdominal aortic aneurysm involves a regional ...   \n",
       "16  Risk factors for an aneurysm include diabetes,...   \n",
       "17  Specific infective causes associated with aneu...   \n",
       "18  A minority of aneurysms are associated with ge...   \n",
       "19  Aneurysms form for a variety of interacting re...   \n",
       "20  \\nThe pressure of blood within the expanding a...   \n",
       "21  Infection. A mycotic aneurysm is an aneurysm t...   \n",
       "22  Syphilis. The third stage of syphilis also man...   \n",
       "23  Copper deficiency. A minority of aneurysms are...   \n",
       "24  Aneurysmal blood vessels are prone to rupture ...   \n",
       "25  Blood vessels with aneurysms, on the other han...   \n",
       "26  Diagnosis of a ruptured cerebral aneurysm is c...   \n",
       "27  Historically, the treatment of arterial aneury...   \n",
       "28  There are currently two treatment options for ...   \n",
       "29  Surgical clipping was introduced by Walter Dan...   \n",
       "30  Endovascular coiling was introduced by Italian...   \n",
       "31  For aneurysms in the aorta, arms, legs, or hea...   \n",
       "32  Renal aneurysms are very rare consisting of on...   \n",
       "33  Incidence rates of cranial aneurysms are estim...   \n",
       "34  Pediatric aneurysms have different incidences ...   \n",
       "35  Incidence rates are two to three times higher ...   \n",
       "36  Most patients, particularly infants, present w...   \n",
       "37  Modeling of aneurysms consists of creating a 3...   \n",
       "38  In the past, aneurysms were modeled as rigid s...   \n",
       "\n",
       "                                    source  paragraph-number  \n",
       "0   https://en.wikipedia.org/wiki/Aneurysm                 0  \n",
       "1   https://en.wikipedia.org/wiki/Aneurysm                 1  \n",
       "2   https://en.wikipedia.org/wiki/Aneurysm                 2  \n",
       "3   https://en.wikipedia.org/wiki/Aneurysm                 3  \n",
       "4   https://en.wikipedia.org/wiki/Aneurysm                 4  \n",
       "5   https://en.wikipedia.org/wiki/Aneurysm                 5  \n",
       "6   https://en.wikipedia.org/wiki/Aneurysm                 6  \n",
       "7   https://en.wikipedia.org/wiki/Aneurysm                 7  \n",
       "8   https://en.wikipedia.org/wiki/Aneurysm                 8  \n",
       "9   https://en.wikipedia.org/wiki/Aneurysm                 9  \n",
       "10  https://en.wikipedia.org/wiki/Aneurysm                10  \n",
       "11  https://en.wikipedia.org/wiki/Aneurysm                11  \n",
       "12  https://en.wikipedia.org/wiki/Aneurysm                12  \n",
       "13  https://en.wikipedia.org/wiki/Aneurysm                13  \n",
       "14  https://en.wikipedia.org/wiki/Aneurysm                14  \n",
       "15  https://en.wikipedia.org/wiki/Aneurysm                15  \n",
       "16  https://en.wikipedia.org/wiki/Aneurysm                16  \n",
       "17  https://en.wikipedia.org/wiki/Aneurysm                17  \n",
       "18  https://en.wikipedia.org/wiki/Aneurysm                18  \n",
       "19  https://en.wikipedia.org/wiki/Aneurysm                19  \n",
       "20  https://en.wikipedia.org/wiki/Aneurysm                20  \n",
       "21  https://en.wikipedia.org/wiki/Aneurysm                21  \n",
       "22  https://en.wikipedia.org/wiki/Aneurysm                22  \n",
       "23  https://en.wikipedia.org/wiki/Aneurysm                23  \n",
       "24  https://en.wikipedia.org/wiki/Aneurysm                24  \n",
       "25  https://en.wikipedia.org/wiki/Aneurysm                25  \n",
       "26  https://en.wikipedia.org/wiki/Aneurysm                26  \n",
       "27  https://en.wikipedia.org/wiki/Aneurysm                27  \n",
       "28  https://en.wikipedia.org/wiki/Aneurysm                28  \n",
       "29  https://en.wikipedia.org/wiki/Aneurysm                29  \n",
       "30  https://en.wikipedia.org/wiki/Aneurysm                30  \n",
       "31  https://en.wikipedia.org/wiki/Aneurysm                31  \n",
       "32  https://en.wikipedia.org/wiki/Aneurysm                32  \n",
       "33  https://en.wikipedia.org/wiki/Aneurysm                33  \n",
       "34  https://en.wikipedia.org/wiki/Aneurysm                34  \n",
       "35  https://en.wikipedia.org/wiki/Aneurysm                35  \n",
       "36  https://en.wikipedia.org/wiki/Aneurysm                36  \n",
       "37  https://en.wikipedia.org/wiki/Aneurysm                37  \n",
       "38  https://en.wikipedia.org/wiki/Aneurysm                38  "
      ]
     },
     "execution_count": 216,
     "metadata": {},
     "output_type": "execute_result"
    }
   ],
   "source": [
    "disParagraphsDF['source'] = [dis_article] * len(disParagraphsDF['paragraph-text'])\n",
    "disParagraphsDF['paragraph-number'] = range(len(disParagraphsDF['paragraph-text']))\n",
    "\n",
    "disParagraphsDF"
   ]
  },
  {
   "cell_type": "code",
   "execution_count": 218,
   "metadata": {},
   "outputs": [],
   "source": [
    "def getOtherURLS(dis_contentPTags):\n",
    "    otherPAgeURLS = []\n",
    "    #We also want to know where the links come from so we also will get:\n",
    "    #the paragraph number\n",
    "    #the word the link is in\n",
    "    for paragraphNum, pTag in enumerate(dis_contentPTags):\n",
    "        #we only want hrefs that link to wiki pages\n",
    "        tagLinks = pTag.findAll('a', href=re.compile('/wiki/'), class_=False)\n",
    "        for aTag in tagLinks:\n",
    "            #We need to extract the url from the <a> tag\n",
    "            relurl = aTag.get('href')\n",
    "            linkText = aTag.text\n",
    "            #wikipedia_base_url is the base we can use the urllib joining function to merge them\n",
    "            #Giving a nice structured tupe like this means we can use tuple expansion later\n",
    "            otherPAgeURLS.append((\n",
    "                urllib.parse.urljoin(wikipedia_base_url, relurl),\n",
    "                paragraphNum,\n",
    "                linkText,\n",
    "            ))\n",
    "    return otherPAgeURLS"
   ]
  },
  {
   "cell_type": "code",
   "execution_count": 259,
   "metadata": {},
   "outputs": [],
   "source": [
    "def scrapePage(URL):\n",
    "    # Examine the content\n",
    "    disContentRequest = requests.get(URL)\n",
    "    \n",
    "    # Place into BeautifulSoup\n",
    "    disContentSoup = bs4.BeautifulSoup(disContentRequest.text, 'html.parser')\n",
    "   \n",
    "    # Take text within <p> tags\n",
    "    dis_contentPTags = disContentSoup.body.findAll('p')\n",
    "    \n",
    "    # Paragraphs without reference numbers\n",
    "    disParagraphs = []\n",
    "    for pTag in dis_contentPTags:\n",
    "        disParagraphs.append(re.sub('\\[\\d+\\]', '', pTag.text))\n",
    "\n",
    "    #convert to a DataFrame\n",
    "    disParagraphsDF = pandas.DataFrame({'paragraph-text' : disParagraphs})\n",
    "    \n",
    "    disParagraphsDF['source'] = [URL] * len(disParagraphsDF['paragraph-text'])\n",
    "    disParagraphsDF['paragraph-number'] = range(len(disParagraphsDF['paragraph-text']))\n",
    "\n",
    "    return (dis_contentPTags, disParagraphsDF)"
   ]
  },
  {
   "cell_type": "code",
   "execution_count": 260,
   "metadata": {},
   "outputs": [],
   "source": [
    "otherURLs = getOtherURLS(dis_contentPTags)"
   ]
  },
  {
   "cell_type": "code",
   "execution_count": 261,
   "metadata": {},
   "outputs": [],
   "source": [
    "dataframes = pandas.DataFrame()\n",
    "# Follow one link from each page, up to three pages\n",
    "start_link = \"https://en.wikipedia.org/wiki/Aneurysm\"\n",
    "for i in range (0, 3):\n",
    "    ptags, df = scrapePage(start_link)\n",
    "    dataframes = dataframes.append(df)\n",
    "    newURLS = getOtherURLS(ptags)\n",
    "    start_link = newURLS[0][0]\n",
    "    start_link"
   ]
  },
  {
   "cell_type": "code",
   "execution_count": 264,
   "metadata": {},
   "outputs": [
    {
     "data": {
      "text/html": [
       "<div>\n",
       "<style scoped>\n",
       "    .dataframe tbody tr th:only-of-type {\n",
       "        vertical-align: middle;\n",
       "    }\n",
       "\n",
       "    .dataframe tbody tr th {\n",
       "        vertical-align: top;\n",
       "    }\n",
       "\n",
       "    .dataframe thead th {\n",
       "        text-align: right;\n",
       "    }\n",
       "</style>\n",
       "<table border=\"1\" class=\"dataframe\">\n",
       "  <thead>\n",
       "    <tr style=\"text-align: right;\">\n",
       "      <th></th>\n",
       "      <th>paragraph-text</th>\n",
       "      <th>source</th>\n",
       "      <th>paragraph-number</th>\n",
       "    </tr>\n",
       "  </thead>\n",
       "  <tbody>\n",
       "    <tr>\n",
       "      <th>0</th>\n",
       "      <td>An aneurysm is an outward bulging, likened to ...</td>\n",
       "      <td>https://en.wikipedia.org/wiki/Aneurysm</td>\n",
       "      <td>0</td>\n",
       "    </tr>\n",
       "    <tr>\n",
       "      <th>1</th>\n",
       "      <td>Aneurysms are classified by type, morphology, ...</td>\n",
       "      <td>https://en.wikipedia.org/wiki/Aneurysm</td>\n",
       "      <td>1</td>\n",
       "    </tr>\n",
       "    <tr>\n",
       "      <th>2</th>\n",
       "      <td>A true aneurysm is one that involves all three...</td>\n",
       "      <td>https://en.wikipedia.org/wiki/Aneurysm</td>\n",
       "      <td>2</td>\n",
       "    </tr>\n",
       "    <tr>\n",
       "      <th>3</th>\n",
       "      <td>A false aneurysm, or pseudoaneurysm, is a coll...</td>\n",
       "      <td>https://en.wikipedia.org/wiki/Aneurysm</td>\n",
       "      <td>3</td>\n",
       "    </tr>\n",
       "    <tr>\n",
       "      <th>4</th>\n",
       "      <td>Pseudoaneurysms can be caused by trauma that p...</td>\n",
       "      <td>https://en.wikipedia.org/wiki/Aneurysm</td>\n",
       "      <td>4</td>\n",
       "    </tr>\n",
       "    <tr>\n",
       "      <th>...</th>\n",
       "      <td>...</td>\n",
       "      <td>...</td>\n",
       "      <td>...</td>\n",
       "    </tr>\n",
       "    <tr>\n",
       "      <th>60</th>\n",
       "      <td>Michael Servetus was the first European to des...</td>\n",
       "      <td>https://en.wikipedia.org/wiki/Circulatory_system</td>\n",
       "      <td>60</td>\n",
       "    </tr>\n",
       "    <tr>\n",
       "      <th>61</th>\n",
       "      <td>Better known discovery of pulmonary circulatio...</td>\n",
       "      <td>https://en.wikipedia.org/wiki/Circulatory_system</td>\n",
       "      <td>61</td>\n",
       "    </tr>\n",
       "    <tr>\n",
       "      <th>62</th>\n",
       "      <td>Finally, the English physician William Harvey,...</td>\n",
       "      <td>https://en.wikipedia.org/wiki/Circulatory_system</td>\n",
       "      <td>62</td>\n",
       "    </tr>\n",
       "    <tr>\n",
       "      <th>63</th>\n",
       "      <td>In 1956, André Frédéric Cournand, Werner Forss...</td>\n",
       "      <td>https://en.wikipedia.org/wiki/Circulatory_system</td>\n",
       "      <td>63</td>\n",
       "    </tr>\n",
       "    <tr>\n",
       "      <th>64</th>\n",
       "      <td>In the 1970s, Diana McSherry developed compute...</td>\n",
       "      <td>https://en.wikipedia.org/wiki/Circulatory_system</td>\n",
       "      <td>64</td>\n",
       "    </tr>\n",
       "  </tbody>\n",
       "</table>\n",
       "<p>130 rows × 3 columns</p>\n",
       "</div>"
      ],
      "text/plain": [
       "                                       paragraph-text  \\\n",
       "0   An aneurysm is an outward bulging, likened to ...   \n",
       "1   Aneurysms are classified by type, morphology, ...   \n",
       "2   A true aneurysm is one that involves all three...   \n",
       "3   A false aneurysm, or pseudoaneurysm, is a coll...   \n",
       "4   Pseudoaneurysms can be caused by trauma that p...   \n",
       "..                                                ...   \n",
       "60  Michael Servetus was the first European to des...   \n",
       "61  Better known discovery of pulmonary circulatio...   \n",
       "62  Finally, the English physician William Harvey,...   \n",
       "63  In 1956, André Frédéric Cournand, Werner Forss...   \n",
       "64  In the 1970s, Diana McSherry developed compute...   \n",
       "\n",
       "                                              source  paragraph-number  \n",
       "0             https://en.wikipedia.org/wiki/Aneurysm                 0  \n",
       "1             https://en.wikipedia.org/wiki/Aneurysm                 1  \n",
       "2             https://en.wikipedia.org/wiki/Aneurysm                 2  \n",
       "3             https://en.wikipedia.org/wiki/Aneurysm                 3  \n",
       "4             https://en.wikipedia.org/wiki/Aneurysm                 4  \n",
       "..                                               ...               ...  \n",
       "60  https://en.wikipedia.org/wiki/Circulatory_system                60  \n",
       "61  https://en.wikipedia.org/wiki/Circulatory_system                61  \n",
       "62  https://en.wikipedia.org/wiki/Circulatory_system                62  \n",
       "63  https://en.wikipedia.org/wiki/Circulatory_system                63  \n",
       "64  https://en.wikipedia.org/wiki/Circulatory_system                64  \n",
       "\n",
       "[130 rows x 3 columns]"
      ]
     },
     "execution_count": 264,
     "metadata": {},
     "output_type": "execute_result"
    }
   ],
   "source": [
    "dataframes"
   ]
  },
  {
   "cell_type": "markdown",
   "metadata": {},
   "source": [
    "## API (Tumblr)\n",
    "\n",
    "Generally website owners do not like you scraping their sites. If done badly,\n",
    "scarping can act like a DOS attack so you should be careful how often you make\n",
    "calls to a site. Some sites want automated tools to access their data, so they\n",
    "create [application programming interface\n",
    "(APIs)](https://en.wikipedia.org/wiki/Application_programming_interface). An API\n",
    "specifies a procedure for an application (or script) to access their data. Often\n",
    "this is though a [representational state transfer\n",
    "(REST)](https://en.wikipedia.org/wiki/Representational_state_transfer) web\n",
    "service, which just means if you make correctly formatted HTTP requests they\n",
    "will return nicely formatted data.\n",
    "\n",
    "A nice example for us to study is [Tumblr](https://www.tumblr.com), they have a\n",
    "[simple RESTful API](https://www.tumblr.com/docs/en/api/v1) that allows you to\n",
    "read posts without any complicated html parsing.\n",
    "\n",
    "We can get the first 20 posts from a blog by making an http GET request to\n",
    "`'http://{blog}.tumblr.com/api/read/json'`, were `{blog}` is the name of the\n",
    "target blog. Lets try and get the posts from [http://lolcats-lol-\n",
    "cat.tumblr.com/](http://lolcats-lol-cat.tumblr.com/) (Note the blog says at the\n",
    "top 'One hour one pic lolcats', but the canonical name that Tumblr uses is in\n",
    "the URL 'lolcats-lol-cat')."
   ]
  },
  {
   "cell_type": "code",
   "execution_count": null,
   "metadata": {},
   "outputs": [],
   "source": [
    "tumblrAPItarget = 'http://{}.tumblr.com/api/read/json'\n",
    "\n",
    "r = requests.get(tumblrAPItarget.format('lolcats-lol-cat'))\n",
    "\n",
    "print(r.text[:1000])"
   ]
  },
  {
   "cell_type": "markdown",
   "metadata": {},
   "source": [
    "This might not look very good on first inspection, but it has far fewer angle\n",
    "braces than html, which makes it easier to parse. What we have is\n",
    "[JSON](https://en.wikipedia.org/wiki/JSON) a 'human readable' text based data\n",
    "transmission format based on javascript. Luckily, we can readily convert it to a\n",
    "python `dict`."
   ]
  },
  {
   "cell_type": "code",
   "execution_count": null,
   "metadata": {},
   "outputs": [],
   "source": [
    "#We need to load only the stuff between the curly braces\n",
    "d = json.loads(r.text[len('var tumblr_api_read = '):-2])\n",
    "print(d.keys())\n",
    "print(len(d['posts']))"
   ]
  },
  {
   "cell_type": "markdown",
   "metadata": {},
   "source": [
    "If we read the [API specification](https://www.tumblr.com/docs/en/api/v1), we\n",
    "will see there are a lot of things we can get if we add things to our GET\n",
    "request. First we can retrieve posts by their id number. Let's first get post\n",
    "`146020177084`."
   ]
  },
  {
   "cell_type": "code",
   "execution_count": null,
   "metadata": {},
   "outputs": [],
   "source": [
    "r = requests.get(tumblrAPItarget.format('lolcats-lol-cat'), params = {'id' : 146020177084})\n",
    "d = json.loads(r.text[len('var tumblr_api_read = '):-2])\n",
    "d['posts'][0].keys()\n",
    "d['posts'][0]['photo-url-1280']\n",
    "\n",
    "with open('lolcat.gif', 'wb') as f:\n",
    "    gifRequest = requests.get(d['posts'][0]['photo-url-1280'], stream = True)\n",
    "    f.write(gifRequest.content)"
   ]
  },
  {
   "cell_type": "markdown",
   "metadata": {},
   "source": [
    "<img src='lolcat.gif'>\n",
    "\n",
    "Such beauty; such vigor (If you can't see it you have to refresh the page). Now\n",
    "we could retrieve the text from all posts as well\n",
    "as related metadata, like the post date, caption or tags. We could also get\n",
    "links to all the images."
   ]
  },
  {
   "cell_type": "code",
   "execution_count": null,
   "metadata": {},
   "outputs": [],
   "source": [
    "#Putting a max in case the blog has millions of images\n",
    "#The given max will be rounded up to the nearest multiple of 50\n",
    "def tumblrImageScrape(blogName, maxImages = 200):\n",
    "    #Restating this here so the function isn't dependent on any external variables\n",
    "    tumblrAPItarget = 'http://{}.tumblr.com/api/read/json'\n",
    "\n",
    "    #There are a bunch of possible locations for the photo url\n",
    "    possiblePhotoSuffixes = [1280, 500, 400, 250, 100]\n",
    "\n",
    "    #These are the pieces of information we will be gathering,\n",
    "    #at the end we will convert this to a DataFrame.\n",
    "    #There are a few other datums we could gather like the captions\n",
    "    #you can read the Tumblr documentation to learn how to get them\n",
    "    #https://www.tumblr.com/docs/en/api/v1\n",
    "    postsData = {\n",
    "        'id' : [],\n",
    "        'photo-url' : [],\n",
    "        'date' : [],\n",
    "        'tags' : [],\n",
    "        'photo-type' : []\n",
    "    }\n",
    "\n",
    "    #Tumblr limits us to a max of 50 posts per request\n",
    "    for requestNum in range(maxImages // 50):\n",
    "        requestParams = {\n",
    "            'start' : requestNum * 50,\n",
    "            'num' : 50,\n",
    "            'type' : 'photo'\n",
    "        }\n",
    "        r = requests.get(tumblrAPItarget.format(blogName), params = requestParams)\n",
    "        requestDict = json.loads(r.text[len('var tumblr_api_read = '):-2])\n",
    "        for postDict in requestDict['posts']:\n",
    "            #We are dealing with uncleaned data, we can't trust it.\n",
    "            #Specifically, not all posts are guaranteed to have the fields we want\n",
    "            try:\n",
    "                postsData['id'].append(postDict['id'])\n",
    "                postsData['date'].append(postDict['date'])\n",
    "                postsData['tags'].append(postDict['tags'])\n",
    "            except KeyError as e:\n",
    "                raise KeyError(\"Post {} from {} is missing: {}\".format(postDict['id'], blogName, e))\n",
    "\n",
    "            foundSuffix = False\n",
    "            for suffix in possiblePhotoSuffixes:\n",
    "                try:\n",
    "                    photoURL = postDict['photo-url-{}'.format(suffix)]\n",
    "                    postsData['photo-url'].append(photoURL)\n",
    "                    postsData['photo-type'].append(photoURL.split('.')[-1])\n",
    "                    foundSuffix = True\n",
    "                    break\n",
    "                except KeyError:\n",
    "                    pass\n",
    "            if not foundSuffix:\n",
    "                #Make sure your error messages are useful\n",
    "                #You will be one of the users\n",
    "                raise KeyError(\"Post {} from {} is missing a photo url\".format(postDict['id'], blogName))\n",
    "\n",
    "    return pandas.DataFrame(postsData)\n",
    "tumblrImageScrape('lolcats-lol-cat', 50)"
   ]
  },
  {
   "cell_type": "markdown",
   "metadata": {},
   "source": [
    "Now we have the urls of a bunch of images and can run OCR on them to gather\n",
    "compelling meme narratives, accompanied by cats.\n",
    "\n",
    "# Files\n",
    "\n",
    "What if the text we want isn't on a webpage? There are a many other sources of\n",
    "text available, typically organized into *files*.\n",
    "\n",
    "## Raw text (and encoding)\n",
    "\n",
    "The most basic form of storing text is as a _raw text_ document. Source code\n",
    "(`.py`, `.r`, etc) is usually raw text as are text files (`.txt`) and those with\n",
    "many other extension (e.g., .csv, .dat, etc.). Opening an unknown file with a\n",
    "text editor is often a great way of learning what the file is.\n",
    "\n",
    "We can create a text file in python with the `open()` function"
   ]
  },
  {
   "cell_type": "code",
   "execution_count": null,
   "metadata": {},
   "outputs": [],
   "source": [
    "#example_text_file = 'sometextfile.txt'\n",
    "#stringToWrite = 'A line\\nAnother line\\nA line with a few unusual symbols \\u2421 \\u241B \\u20A0 \\u20A1 \\u20A2 \\u20A3 \\u0D60\\n'\n",
    "stringToWrite = 'A line\\nAnother line\\nA line with a few unusual symbols ␡ ␛ ₠ ₡ ₢ ₣ ൠ\\n'\n",
    "\n",
    "with open(example_text_file, mode = 'w', encoding='utf-8') as f:\n",
    "    f.write(stringToWrite)"
   ]
  },
  {
   "cell_type": "markdown",
   "metadata": {},
   "source": [
    "Notice the `encoding='utf-8'` argument, which specifies how we map the bits from\n",
    "the file to the glyphs (and whitespace characters like tab (`'\\t'`) or newline\n",
    "(`'\\n'`)) on the screen. When dealing only with latin letters, arabic numerals\n",
    "and the other symbols on America keyboards you usually do not have to worry\n",
    "about encodings as the ones used today are backwards compatible with\n",
    "[ASCII](https://en.wikipedia.org/wiki/ASCII), which gives the binary\n",
    "representation of 128 characters.\n",
    "\n",
    "Some of you, however, will want to use other characters (e.g., Chinese\n",
    "characters). To solve this there is\n",
    "[Unicode](https://en.wikipedia.org/wiki/Unicode) which assigns numbers to\n",
    "symbols, e.g., 041 is `'A'` and 03A3 is `'Σ'` (numbers starting with 0 are\n",
    "hexadecimal). Often non/beyond-ASCII characters are called Unicode characters.\n",
    "Unicode contains 1,114,112 characters, about 10\\% of which have been assigned.\n",
    "Unfortunately there are many ways used to map combinations of bits to Unicode\n",
    "symbols. The ones you are likely to encounter are called by Python _utf-8_,\n",
    "_utf-16_ and _latin-1_. _utf-8_ is the standard for Linux and Mac OS while both\n",
    "_utf-16_ and _latin-1_ are used by windows. If you use the wrong encoding,\n",
    "characters can appear wrong, sometimes change in number or Python could raise an\n",
    "exception. Lets see what happens when we open the file we just created with\n",
    "different encodings."
   ]
  },
  {
   "cell_type": "code",
   "execution_count": null,
   "metadata": {},
   "outputs": [],
   "source": [
    "with open(example_text_file, encoding='utf-8') as f:\n",
    "    print(\"This is with the correct encoding:\")\n",
    "    print(f.read())\n",
    "\n",
    "with open(example_text_file, encoding='latin-1') as f:\n",
    "    print(\"This is with the wrong encoding:\")\n",
    "    print(f.read())"
   ]
  },
  {
   "cell_type": "markdown",
   "metadata": {},
   "source": [
    "Notice that with _latin-1_ the unicode characters are mixed up and there are too\n",
    "many of them. You need to keep in mind encoding when obtaining text files.\n",
    "Determining the encoding can sometime involve substantial work."
   ]
  },
  {
   "cell_type": "markdown",
   "metadata": {},
   "source": [
    "We can also load many text files at once. Lets start by looking at the Shakespeare files in the `data` directory "
   ]
  },
  {
   "cell_type": "code",
   "execution_count": null,
   "metadata": {},
   "outputs": [],
   "source": [
    "with open('./data/Shakespeare/midsummer_nights_dream.txt') as f:\n",
    "    midsummer = f.read()\n",
    "print(midsummer[-700:])"
   ]
  },
  {
   "cell_type": "markdown",
   "metadata": {},
   "source": [
    "By the way, depending on your working directory, you might get errors such as: [Errno 2] No such file or directory: '../data/Shakespeare/midsummer_nights_dream.txt.' Don't panic, it's nothing, just check your working directory. \n",
    "\n",
    "Then to load all the files in `./data/Shakespeare` we can use a for loop with `scandir`:"
   ]
  },
  {
   "cell_type": "code",
   "execution_count": null,
   "metadata": {},
   "outputs": [],
   "source": [
    "targetDir = './data/Shakespeare' #Change this to your own directory of texts\n",
    "shakespearText = []\n",
    "shakespearFileName = []\n",
    "\n",
    "for file in (file for file in os.scandir(targetDir) if file.is_file() and not file.name.startswith('.')):\n",
    "    with open(file.path, encoding=\"utf-8\") as f:\n",
    "        shakespearText.append(f.read())\n",
    "    shakespearFileName.append(file.name)"
   ]
  },
  {
   "cell_type": "markdown",
   "metadata": {},
   "source": [
    "Then we can put them all in pandas DataFrame"
   ]
  },
  {
   "cell_type": "code",
   "execution_count": null,
   "metadata": {},
   "outputs": [],
   "source": [
    "shakespear_df = pandas.DataFrame({'text' : shakespearText}, index = shakespearFileName)\n",
    "shakespear_df"
   ]
  },
  {
   "cell_type": "markdown",
   "metadata": {},
   "source": [
    "Getting your text in a format like this is the first step of most analysis"
   ]
  },
  {
   "cell_type": "markdown",
   "metadata": {},
   "source": [
    "## PDF\n",
    "\n",
    "Another common way text will be stored is in a PDF file. First we will download\n",
    "a pdf in Python. To do that lets grab a chapter from\n",
    "_Speech and Language Processing_, chapter 21 is on Information Extraction which\n",
    "seems apt. It is stored as a pdf at [https://web.stanford.edu/~jurafsky/slp3/21.\n",
    "pdf](https://web.stanford.edu/~jurafsky/slp3/21.pdf) although we are downloading\n",
    "from a copy just in case Jurafsky changes their website."
   ]
  },
  {
   "cell_type": "code",
   "execution_count": null,
   "metadata": {},
   "outputs": [],
   "source": [
    "#information_extraction_pdf = 'https://github.com/KnowledgeLab/content_analysis/raw/data/21.pdf'\n",
    "\n",
    "infoExtractionRequest = requests.get(information_extraction_pdf, stream=True)\n",
    "print(infoExtractionRequest.text[:1000])"
   ]
  },
  {
   "cell_type": "markdown",
   "metadata": {},
   "source": [
    "It says `'pdf'`, so thats a good sign. The rest though looks like we are having\n",
    "issues with an encoding. The random characters are not caused by our encoding\n",
    "being wrong, however. They are cause by there not being an encoding for those\n",
    "parts at all. PDFs are nominally binary files, meaning there are sections of\n",
    "binary that are specific to pdf and nothing else so you need something that\n",
    "knows about pdf to read them. To do that we will be using\n",
    "[`PyPDF2`](https://github.com/mstamy2/PyPDF2), a PDF processing library for\n",
    "Python 3.\n",
    "\n",
    "\n",
    "Because PDFs are a very complicated file format pdfminer requires a large amount\n",
    "of boilerplate code to extract text, we have written a function that takes in an\n",
    "open PDF file and returns the text so you don't have to."
   ]
  },
  {
   "cell_type": "code",
   "execution_count": null,
   "metadata": {},
   "outputs": [],
   "source": [
    "def readPDF(pdfFile):\n",
    "    #Based on code from http://stackoverflow.com/a/20905381/4955164\n",
    "    #Using utf-8, if there are a bunch of random symbols try changing this\n",
    "    codec = 'utf-8'\n",
    "    rsrcmgr = pdfminer.pdfinterp.PDFResourceManager()\n",
    "    retstr = io.StringIO()\n",
    "    layoutParams = pdfminer.layout.LAParams()\n",
    "    device = pdfminer.converter.TextConverter(rsrcmgr, retstr, laparams = layoutParams, codec = codec)\n",
    "    #We need a device and an interpreter\n",
    "    interpreter = pdfminer.pdfinterp.PDFPageInterpreter(rsrcmgr, device)\n",
    "    password = ''\n",
    "    maxpages = 0\n",
    "    caching = True\n",
    "    pagenos=set()\n",
    "    for page in pdfminer.pdfpage.PDFPage.get_pages(pdfFile, pagenos, maxpages=maxpages, password=password,caching=caching, check_extractable=True):\n",
    "        interpreter.process_page(page)\n",
    "    device.close()\n",
    "    returnedString = retstr.getvalue()\n",
    "    retstr.close()\n",
    "    return returnedString"
   ]
  },
  {
   "cell_type": "markdown",
   "metadata": {},
   "source": [
    "First we need to take the response object and convert it into a 'file like'\n",
    "object so that pdfminer can read it. To do this we will use `io`'s `BytesIO`."
   ]
  },
  {
   "cell_type": "code",
   "execution_count": null,
   "metadata": {},
   "outputs": [],
   "source": [
    "infoExtractionBytes = io.BytesIO(infoExtractionRequest.content)"
   ]
  },
  {
   "cell_type": "markdown",
   "metadata": {},
   "source": [
    "Now we can give it to pdfminer."
   ]
  },
  {
   "cell_type": "code",
   "execution_count": null,
   "metadata": {},
   "outputs": [],
   "source": [
    "print(readPDF(infoExtractionBytes)[:550])"
   ]
  },
  {
   "cell_type": "markdown",
   "metadata": {},
   "source": [
    "From here we can either look at the full text or fiddle with our PDF reader and\n",
    "get more information about individual blocks of text.\n",
    "\n",
    "## Word Docs\n",
    "\n",
    "The other type of document you are likely to encounter is the `.docx`, these are\n",
    "actually a version of [XML](https://en.wikipedia.org/wiki/Office_Open_XML), just\n",
    "like HTML, and like HTML we will use a specialized parser.\n",
    "\n",
    "For this class we will use [`python-docx`](https://python-\n",
    "docx.readthedocs.io/en/latest/) which provides a nice simple interface for\n",
    "reading `.docx` files"
   ]
  },
  {
   "cell_type": "code",
   "execution_count": null,
   "metadata": {},
   "outputs": [],
   "source": [
    "#example_docx = 'https://github.com/KnowledgeLab/content_analysis/raw/data/example_doc.docx'\n",
    "\n",
    "r = requests.get(example_docx, stream=True)\n",
    "d = docx.Document(io.BytesIO(r.content))\n",
    "for paragraph in d.paragraphs[:7]:\n",
    "    print(paragraph.text)"
   ]
  },
  {
   "cell_type": "markdown",
   "metadata": {},
   "source": [
    "This procedure uses the `io.BytesIO` class again, since `docx.Document` expects\n",
    "a file. Another way to do it is to save the document to a file and then read it\n",
    "like any other file. If we do this we can either delete the file afterwords, or\n",
    "save it and avoid downloading the following time.\n",
    "\n",
    "This function is useful as a part of many different tasks so it and others like it will be added to the helper package `lucem_illud_2020` so we can use it later without having to retype it."
   ]
  },
  {
   "cell_type": "code",
   "execution_count": null,
   "metadata": {},
   "outputs": [],
   "source": [
    "def downloadIfNeeded(targetURL, outputFile, **openkwargs):\n",
    "    if not os.path.isfile(outputFile):\n",
    "        outputDir = os.path.dirname(outputFile)\n",
    "        #This function is a more general os.mkdir()\n",
    "        if len(outputDir) > 0:\n",
    "            os.makedirs(outputDir, exist_ok = True)\n",
    "        r = requests.get(targetURL, stream=True)\n",
    "        #Using a closure like this is generally better than having to\n",
    "        #remember to close the file. There are ways to make this function\n",
    "        #work as a closure too\n",
    "        with open(outputFile, 'wb') as f:\n",
    "            f.write(r.content)\n",
    "    return open(outputFile, **openkwargs)"
   ]
  },
  {
   "cell_type": "markdown",
   "metadata": {},
   "source": [
    "This function will download, save and open `outputFile` as `outputFile` or just\n",
    "open it if `outputFile` exists. By default `open()` will open the file as read\n",
    "only text with the local encoding, which may cause issues if its not a text\n",
    "file."
   ]
  },
  {
   "cell_type": "code",
   "execution_count": null,
   "metadata": {},
   "outputs": [],
   "source": [
    "try:\n",
    "    d = docx.Document(downloadIfNeeded(example_docx, example_docx_save))\n",
    "except Exception as e:\n",
    "    print(e)"
   ]
  },
  {
   "cell_type": "markdown",
   "metadata": {},
   "source": [
    "We need to tell `open()` to read in binary mode (`'rb'`), this is why we added\n",
    "`**openkwargs`, this allows us to pass any keyword arguments (kwargs) from\n",
    "`downloadIfNeeded` to `open()`."
   ]
  },
  {
   "cell_type": "code",
   "execution_count": null,
   "metadata": {},
   "outputs": [],
   "source": [
    "d = docx.Document(downloadIfNeeded(example_docx, example_docx_save, mode = 'rb'))\n",
    "for paragraph in d.paragraphs[:7]:\n",
    "    print(paragraph.text)"
   ]
  },
  {
   "cell_type": "markdown",
   "metadata": {},
   "source": [
    "Now we can read the file with `docx.Document` and not have to wait for it to be\n",
    "downloaded every time."
   ]
  },
  {
   "cell_type": "markdown",
   "metadata": {},
   "source": [
    "\n",
    "# <span style=\"color:red\">Section 3</span>\n",
    "<span style=\"color:red\">Construct cells immediately below this that extract and organize textual content from text, PDF or Word into a pandas dataframe.</span>\n"
   ]
  },
  {
   "cell_type": "code",
   "execution_count": 189,
   "metadata": {},
   "outputs": [
    {
     "name": "stdout",
     "output_type": "stream",
     "text": [
      "%PDF-1.2\n",
      "%����\n",
      "1 0 obj\n",
      "<<\n",
      "/Type /Catalog\n",
      "/Pages 2 0 R\n",
      "/OpenAction [3 0 R /XYZ null null null]\n",
      "/PageMode /UseNone\n",
      ">>\n",
      "endobj\n",
      "4 0 obj\n",
      "<<\n",
      "/Producer (Acrobat Distiller 4.05 for Windows)\n",
      "/Creator (Microsoft Word 9.0)\n",
      "/ModDate (D:20010712165742-05'00')\n",
      "/Author (ITS)\n",
      "/Title (A New Look at Framing Effects:)\n",
      "/CreationDate (D:20010712165711)\n",
      "/rgid (PB:222262436_AS:552984994353153@1508853304820)\n",
      ">>\n",
      "endobj\n",
      "2 0 obj\n",
      "<<\n",
      "/Type /Pages\n",
      "/Kids [5 0 R 6 0 R 7 0 R 8 0 R]\n",
      "/Count 33\n",
      ">>\n",
      "endobj\n",
      "3 0 obj\n",
      "<<\n",
      "/Type /Page\n",
      "/Parent 5 0 R\n",
      "/Resources 9 0 R\n",
      "/Contents 10 0 R\n",
      "/MediaBox [0 0 612 792]\n",
      "/CropBox [0 0 612 792]\n",
      "/Rotate 0\n",
      ">>\n",
      "endobj\n",
      "5 0 obj\n",
      "<<\n",
      "/Type /Pages\n",
      "/Kids [11 0 R 3 0 R 12 0 R 13 0 R 14 0 R 15 0 R 16 0 R 17 0 R 18 0 R 19 0 R\n",
      "20 0 R]\n",
      "/Count 11\n",
      "/Parent 2 0 R\n",
      ">>\n",
      "endobj\n",
      "6 0 obj\n",
      "<<\n",
      "/Type /Pages\n",
      "/Kids [21 0 R 22 0 R 23 0 R 24 0 R 25 0 R 26 0 R 27 0 R 28 0 R 29 0 R 30 0 R]\n",
      "/Count 10\n",
      "/Parent 2 0 R\n",
      ">>\n",
      "endobj\n",
      "7 0 obj\n",
      "<<\n",
      "/Type /Pages\n",
      "/Kids [31 0 R 32 0 R 33 0 R 34 0 R 35 0 R 36 0 R 37 0 R 38 0 R 39 0 R 40 0 R]\n",
      "/Count 10\n"
     ]
    }
   ],
   "source": [
    "information_extraction_pdf = 'https://github.com/mkjang17/Homework-Notebooks/raw/main/week-1/LevinFraming%20Effects.pdf'\n",
    "\n",
    "infoExtractionRequest = requests.get(information_extraction_pdf, stream=True)\n",
    "print(infoExtractionRequest.text[:1000])"
   ]
  },
  {
   "cell_type": "code",
   "execution_count": 190,
   "metadata": {},
   "outputs": [],
   "source": [
    "def readPDF(pdfFile):\n",
    "    #Based on code from http://stackoverflow.com/a/20905381/4955164\n",
    "    #Using utf-8, if there are a bunch of random symbols try changing this\n",
    "    codec = 'utf-8'\n",
    "    rsrcmgr = pdfminer.pdfinterp.PDFResourceManager()\n",
    "    retstr = io.StringIO()\n",
    "    layoutParams = pdfminer.layout.LAParams()\n",
    "    device = pdfminer.converter.TextConverter(rsrcmgr, retstr, laparams = layoutParams, codec = codec)\n",
    "    #We need a device and an interpreter\n",
    "    interpreter = pdfminer.pdfinterp.PDFPageInterpreter(rsrcmgr, device)\n",
    "    password = ''\n",
    "    maxpages = 0\n",
    "    caching = True\n",
    "    pagenos=set()\n",
    "    for page in pdfminer.pdfpage.PDFPage.get_pages(pdfFile, pagenos, maxpages=maxpages, password=password,caching=caching, check_extractable=True):\n",
    "        interpreter.process_page(page)\n",
    "    device.close()\n",
    "    returnedString = retstr.getvalue()\n",
    "    retstr.close()\n",
    "    return returnedString"
   ]
  },
  {
   "cell_type": "code",
   "execution_count": 191,
   "metadata": {},
   "outputs": [],
   "source": [
    "infoExtractionBytes = io.BytesIO(infoExtractionRequest.content)"
   ]
  },
  {
   "cell_type": "code",
   "execution_count": 195,
   "metadata": {},
   "outputs": [],
   "source": [
    "text = readPDF(infoExtractionBytes)[:500]"
   ]
  },
  {
   "cell_type": "code",
   "execution_count": 200,
   "metadata": {},
   "outputs": [
    {
     "data": {
      "text/html": [
       "<div>\n",
       "<style scoped>\n",
       "    .dataframe tbody tr th:only-of-type {\n",
       "        vertical-align: middle;\n",
       "    }\n",
       "\n",
       "    .dataframe tbody tr th {\n",
       "        vertical-align: top;\n",
       "    }\n",
       "\n",
       "    .dataframe thead th {\n",
       "        text-align: right;\n",
       "    }\n",
       "</style>\n",
       "<table border=\"1\" class=\"dataframe\">\n",
       "  <thead>\n",
       "    <tr style=\"text-align: right;\">\n",
       "      <th></th>\n",
       "      <th>text</th>\n",
       "    </tr>\n",
       "  </thead>\n",
       "  <tbody>\n",
       "    <tr>\n",
       "      <th>0</th>\n",
       "      <td>See discussions, stats, and author profiles fo...</td>\n",
       "    </tr>\n",
       "    <tr>\n",
       "      <th>1</th>\n",
       "      <td></td>\n",
       "    </tr>\n",
       "    <tr>\n",
       "      <th>2</th>\n",
       "      <td>A New Look at Framing Effects: Distribution of...</td>\n",
       "    </tr>\n",
       "    <tr>\n",
       "      <th>3</th>\n",
       "      <td>Differences, and Independence of Types of Effects</td>\n",
       "    </tr>\n",
       "    <tr>\n",
       "      <th>4</th>\n",
       "      <td></td>\n",
       "    </tr>\n",
       "    <tr>\n",
       "      <th>5</th>\n",
       "      <td>Article  in  Organizational Behavior and Human...</td>\n",
       "    </tr>\n",
       "    <tr>\n",
       "      <th>6</th>\n",
       "      <td></td>\n",
       "    </tr>\n",
       "    <tr>\n",
       "      <th>7</th>\n",
       "      <td>DOI: 10.1006/obhd.2001.2983 · Source: RePEc</td>\n",
       "    </tr>\n",
       "    <tr>\n",
       "      <th>8</th>\n",
       "      <td></td>\n",
       "    </tr>\n",
       "    <tr>\n",
       "      <th>9</th>\n",
       "      <td>CITATIONS</td>\n",
       "    </tr>\n",
       "    <tr>\n",
       "      <th>10</th>\n",
       "      <td>361</td>\n",
       "    </tr>\n",
       "    <tr>\n",
       "      <th>11</th>\n",
       "      <td></td>\n",
       "    </tr>\n",
       "    <tr>\n",
       "      <th>12</th>\n",
       "      <td>4 authors, including:</td>\n",
       "    </tr>\n",
       "    <tr>\n",
       "      <th>13</th>\n",
       "      <td></td>\n",
       "    </tr>\n",
       "    <tr>\n",
       "      <th>14</th>\n",
       "      <td>Irwin P Levin</td>\n",
       "    </tr>\n",
       "    <tr>\n",
       "      <th>15</th>\n",
       "      <td>University of Iowa</td>\n",
       "    </tr>\n",
       "    <tr>\n",
       "      <th>16</th>\n",
       "      <td></td>\n",
       "    </tr>\n",
       "    <tr>\n",
       "      <th>17</th>\n",
       "      <td>155 PUBLICATIONS   8,672 CITATIONS</td>\n",
       "    </tr>\n",
       "    <tr>\n",
       "      <th>18</th>\n",
       "      <td></td>\n",
       "    </tr>\n",
       "    <tr>\n",
       "      <th>19</th>\n",
       "      <td>SEE PROFILE</td>\n",
       "    </tr>\n",
       "    <tr>\n",
       "      <th>20</th>\n",
       "      <td></td>\n",
       "    </tr>\n",
       "    <tr>\n",
       "      <th>21</th>\n",
       "      <td>Marco Lau</td>\n",
       "    </tr>\n",
       "  </tbody>\n",
       "</table>\n",
       "</div>"
      ],
      "text/plain": [
       "                                                 text\n",
       "0   See discussions, stats, and author profiles fo...\n",
       "1                                                    \n",
       "2   A New Look at Framing Effects: Distribution of...\n",
       "3   Differences, and Independence of Types of Effects\n",
       "4                                                    \n",
       "5   Article  in  Organizational Behavior and Human...\n",
       "6                                                    \n",
       "7         DOI: 10.1006/obhd.2001.2983 · Source: RePEc\n",
       "8                                                    \n",
       "9                                           CITATIONS\n",
       "10                                                361\n",
       "11                                                   \n",
       "12                              4 authors, including:\n",
       "13                                                   \n",
       "14                                      Irwin P Levin\n",
       "15                                 University of Iowa\n",
       "16                                                   \n",
       "17              155 PUBLICATIONS   8,672 CITATIONS   \n",
       "18                                                   \n",
       "19                                        SEE PROFILE\n",
       "20                                                   \n",
       "21                                          Marco Lau"
      ]
     },
     "execution_count": 200,
     "metadata": {},
     "output_type": "execute_result"
    }
   ],
   "source": [
    "pdf_text_df = pandas.DataFrame({\"text\" : text.split(\"\\n\")})\n",
    "pdf_text_df"
   ]
  },
  {
   "cell_type": "markdown",
   "metadata": {},
   "source": [
    "### Other sources:\n",
    "\n",
    "Other popular sources for internet data:\n",
    "\n",
    "[reddit](https://www.reddit.com/) - https://praw.readthedocs.io/en/v2.1.21/\n",
    "\n",
    "[twitter](https://twitter.com/) - https://pypi.org/project/python-twitter/\n",
    "\n",
    "[project gutenburg](https://www.gutenberg.org/) - https://github.com/ageitgey/Gutenberg \n",
    "\n"
   ]
  }
 ],
 "metadata": {
  "kernelspec": {
   "display_name": "Python 3",
   "language": "python",
   "name": "python3"
  },
  "language_info": {
   "codemirror_mode": {
    "name": "ipython",
    "version": 3
   },
   "file_extension": ".py",
   "mimetype": "text/x-python",
   "name": "python",
   "nbconvert_exporter": "python",
   "pygments_lexer": "ipython3",
   "version": "3.8.5"
  }
 },
 "nbformat": 4,
 "nbformat_minor": 4
}
